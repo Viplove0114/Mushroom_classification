{
 "cells": [
  {
   "cell_type": "markdown",
   "id": "2f7b9b40",
   "metadata": {},
   "source": [
    "<h1><center>iNeuron</center></h1>\n",
    "<h2><center>Mushroom Classification </center></h2>\n",
    "<h2><center>Domain - Agriculture</center></h2>\n",
    "<h3><center>Author - Viplove Thakran</center></h3>"
   ]
  },
  {
   "cell_type": "markdown",
   "id": "50ae785b",
   "metadata": {},
   "source": [
    "#### Problem Statement :\n",
    "The Audubon Society Field Guide to North American Mushrooms contains descriptions of hypothetical samples corresponding to 23 species of gilled mushrooms in the Agaricus and Lepiota Family Mushroom (1981). Each species is labelled as either definitely edible, definitely poisonous, or maybe edible but not recommended. This last category was merged with the toxic category. The Guide asserts unequivocally that there is no simple rule for judging a mushroom's edibility, such as \"leaflets three, leave it\n",
    "be\" for Poisonous Oak and Ivy. The main goal is to predict which mushroom is poisonous & which is edible."
   ]
  },
  {
   "cell_type": "code",
   "execution_count": 1,
   "id": "97b34ae5",
   "metadata": {
    "scrolled": true
   },
   "outputs": [],
   "source": [
    "# import required libraries\n",
    "import numpy as np\n",
    "import pandas as pd\n",
    "import matplotlib.pyplot as plt\n",
    "%matplotlib inline\n",
    "import seaborn as sns\n",
    "from sklearn.impute import SimpleImputer\n",
    "from sklearn.preprocessing import LabelEncoder\n",
    "from sklearn.model_selection import train_test_split\n",
    "from sklearn.feature_selection import SelectKBest, chi2\n",
    "from sklearn.preprocessing import StandardScaler\n",
    "from xgboost import XGBClassifier\n",
    "from sklearn.metrics import confusion_matrix, accuracy_score, classification_report\n",
    "import pickle\n",
    "pd.set_option('display.max_rows', 500)\n",
    "pd.set_option('display.max_columns', 500)\n",
    "pd.set_option('display.width', 1000)"
   ]
  },
  {
   "cell_type": "code",
   "execution_count": 2,
   "id": "2631cea9",
   "metadata": {},
   "outputs": [
    {
     "name": "stdout",
     "output_type": "stream",
     "text": [
      "[WinError 3] The system cannot find the path specified: 'D:\\\\Deaktop\\\\iNeuron_Mushroom_Classification-main'\n",
      "D:\\Desktop\\mushroom\n"
     ]
    }
   ],
   "source": [
    "# set working directory\n",
    "import io\n",
    "%cd \"D:\\Deaktop\\iNeuron_Mushroom_Classification-main\""
   ]
  },
  {
   "cell_type": "code",
   "execution_count": 3,
   "id": "443ecc24",
   "metadata": {},
   "outputs": [],
   "source": [
    "# read the data\n",
    "mushroom = pd.read_csv('mushrooms.csv')"
   ]
  },
  {
   "cell_type": "code",
   "execution_count": 4,
   "id": "425b0761",
   "metadata": {},
   "outputs": [
    {
     "data": {
      "text/html": [
       "<div>\n",
       "<style scoped>\n",
       "    .dataframe tbody tr th:only-of-type {\n",
       "        vertical-align: middle;\n",
       "    }\n",
       "\n",
       "    .dataframe tbody tr th {\n",
       "        vertical-align: top;\n",
       "    }\n",
       "\n",
       "    .dataframe thead th {\n",
       "        text-align: right;\n",
       "    }\n",
       "</style>\n",
       "<table border=\"1\" class=\"dataframe\">\n",
       "  <thead>\n",
       "    <tr style=\"text-align: right;\">\n",
       "      <th></th>\n",
       "      <th>class</th>\n",
       "      <th>cap-shape</th>\n",
       "      <th>cap-surface</th>\n",
       "      <th>cap-color</th>\n",
       "      <th>bruises</th>\n",
       "      <th>odor</th>\n",
       "      <th>gill-attachment</th>\n",
       "      <th>gill-spacing</th>\n",
       "      <th>gill-size</th>\n",
       "      <th>gill-color</th>\n",
       "      <th>stalk-shape</th>\n",
       "      <th>stalk-root</th>\n",
       "      <th>stalk-surface-above-ring</th>\n",
       "      <th>stalk-surface-below-ring</th>\n",
       "      <th>stalk-color-above-ring</th>\n",
       "      <th>stalk-color-below-ring</th>\n",
       "      <th>veil-type</th>\n",
       "      <th>veil-color</th>\n",
       "      <th>ring-number</th>\n",
       "      <th>ring-type</th>\n",
       "      <th>spore-print-color</th>\n",
       "      <th>population</th>\n",
       "      <th>habitat</th>\n",
       "    </tr>\n",
       "  </thead>\n",
       "  <tbody>\n",
       "    <tr>\n",
       "      <th>0</th>\n",
       "      <td>p</td>\n",
       "      <td>x</td>\n",
       "      <td>s</td>\n",
       "      <td>n</td>\n",
       "      <td>t</td>\n",
       "      <td>p</td>\n",
       "      <td>f</td>\n",
       "      <td>c</td>\n",
       "      <td>n</td>\n",
       "      <td>k</td>\n",
       "      <td>e</td>\n",
       "      <td>e</td>\n",
       "      <td>s</td>\n",
       "      <td>s</td>\n",
       "      <td>w</td>\n",
       "      <td>w</td>\n",
       "      <td>p</td>\n",
       "      <td>w</td>\n",
       "      <td>o</td>\n",
       "      <td>p</td>\n",
       "      <td>k</td>\n",
       "      <td>s</td>\n",
       "      <td>u</td>\n",
       "    </tr>\n",
       "    <tr>\n",
       "      <th>1</th>\n",
       "      <td>e</td>\n",
       "      <td>x</td>\n",
       "      <td>s</td>\n",
       "      <td>y</td>\n",
       "      <td>t</td>\n",
       "      <td>a</td>\n",
       "      <td>f</td>\n",
       "      <td>c</td>\n",
       "      <td>b</td>\n",
       "      <td>k</td>\n",
       "      <td>e</td>\n",
       "      <td>c</td>\n",
       "      <td>s</td>\n",
       "      <td>s</td>\n",
       "      <td>w</td>\n",
       "      <td>w</td>\n",
       "      <td>p</td>\n",
       "      <td>w</td>\n",
       "      <td>o</td>\n",
       "      <td>p</td>\n",
       "      <td>n</td>\n",
       "      <td>n</td>\n",
       "      <td>g</td>\n",
       "    </tr>\n",
       "    <tr>\n",
       "      <th>2</th>\n",
       "      <td>e</td>\n",
       "      <td>b</td>\n",
       "      <td>s</td>\n",
       "      <td>w</td>\n",
       "      <td>t</td>\n",
       "      <td>l</td>\n",
       "      <td>f</td>\n",
       "      <td>c</td>\n",
       "      <td>b</td>\n",
       "      <td>n</td>\n",
       "      <td>e</td>\n",
       "      <td>c</td>\n",
       "      <td>s</td>\n",
       "      <td>s</td>\n",
       "      <td>w</td>\n",
       "      <td>w</td>\n",
       "      <td>p</td>\n",
       "      <td>w</td>\n",
       "      <td>o</td>\n",
       "      <td>p</td>\n",
       "      <td>n</td>\n",
       "      <td>n</td>\n",
       "      <td>m</td>\n",
       "    </tr>\n",
       "    <tr>\n",
       "      <th>3</th>\n",
       "      <td>p</td>\n",
       "      <td>x</td>\n",
       "      <td>y</td>\n",
       "      <td>w</td>\n",
       "      <td>t</td>\n",
       "      <td>p</td>\n",
       "      <td>f</td>\n",
       "      <td>c</td>\n",
       "      <td>n</td>\n",
       "      <td>n</td>\n",
       "      <td>e</td>\n",
       "      <td>e</td>\n",
       "      <td>s</td>\n",
       "      <td>s</td>\n",
       "      <td>w</td>\n",
       "      <td>w</td>\n",
       "      <td>p</td>\n",
       "      <td>w</td>\n",
       "      <td>o</td>\n",
       "      <td>p</td>\n",
       "      <td>k</td>\n",
       "      <td>s</td>\n",
       "      <td>u</td>\n",
       "    </tr>\n",
       "    <tr>\n",
       "      <th>4</th>\n",
       "      <td>e</td>\n",
       "      <td>x</td>\n",
       "      <td>s</td>\n",
       "      <td>g</td>\n",
       "      <td>f</td>\n",
       "      <td>n</td>\n",
       "      <td>f</td>\n",
       "      <td>w</td>\n",
       "      <td>b</td>\n",
       "      <td>k</td>\n",
       "      <td>t</td>\n",
       "      <td>e</td>\n",
       "      <td>s</td>\n",
       "      <td>s</td>\n",
       "      <td>w</td>\n",
       "      <td>w</td>\n",
       "      <td>p</td>\n",
       "      <td>w</td>\n",
       "      <td>o</td>\n",
       "      <td>e</td>\n",
       "      <td>n</td>\n",
       "      <td>a</td>\n",
       "      <td>g</td>\n",
       "    </tr>\n",
       "  </tbody>\n",
       "</table>\n",
       "</div>"
      ],
      "text/plain": [
       "  class cap-shape cap-surface cap-color bruises odor gill-attachment gill-spacing gill-size gill-color stalk-shape stalk-root stalk-surface-above-ring stalk-surface-below-ring stalk-color-above-ring stalk-color-below-ring veil-type veil-color ring-number ring-type spore-print-color population habitat\n",
       "0     p         x           s         n       t    p               f            c         n          k           e          e                        s                        s                      w                      w         p          w           o         p                 k          s       u\n",
       "1     e         x           s         y       t    a               f            c         b          k           e          c                        s                        s                      w                      w         p          w           o         p                 n          n       g\n",
       "2     e         b           s         w       t    l               f            c         b          n           e          c                        s                        s                      w                      w         p          w           o         p                 n          n       m\n",
       "3     p         x           y         w       t    p               f            c         n          n           e          e                        s                        s                      w                      w         p          w           o         p                 k          s       u\n",
       "4     e         x           s         g       f    n               f            w         b          k           t          e                        s                        s                      w                      w         p          w           o         e                 n          a       g"
      ]
     },
     "execution_count": 4,
     "metadata": {},
     "output_type": "execute_result"
    }
   ],
   "source": [
    "# show first five records from the data\n",
    "mushroom.head()"
   ]
  },
  {
   "cell_type": "markdown",
   "id": "cae6115a",
   "metadata": {},
   "source": [
    "<h4>Dataset Information: Meaning of different values in different columns.</h4> \n",
    "<b>Attribute Information:</b><br> \n",
    "classes: edible=e, poisonous=p\n",
    "\n",
    "cap-shape: bell=b,conical=c,convex=x,flat=f, knobbed=k,sunken=s\n",
    "\n",
    "cap-surface: fibrous=f,grooves=g,scaly=y,smooth=s\n",
    "\n",
    "cap-color: brown=n,buff=b,cinnamon=c,gray=g,green=r,pink=p,purple=u,red=e,white=w,yellow=y\n",
    "\n",
    "bruises: bruises=t,no=f\n",
    "\n",
    "odor: almond=a,anise=l,creosote=c,fishy=y,foul=f,musty=m,none=n,pungent=p,spicy=s\n",
    "\n",
    "gill-attachment: attached=a,descending=d,free=f,notched=n\n",
    "\n",
    "gill-spacing: close=c,crowded=w,distant=d\n",
    "\n",
    "gill-size: broad=b,narrow=n\n",
    "\n",
    "gill-color: black=k,brown=n,buff=b,chocolate=h,gray=g, green=r,orange=o,pink=p,purple=u,red=e,white=w,yellow=y\n",
    "\n",
    "stalk-shape: enlarging=e,tapering=t\n",
    "\n",
    "stalk-root: bulbous=b,club=c,cup=u,equal=e,rhizomorphs=z,rooted=r,missing=?\n",
    "\n",
    "stalk-surface-above-ring: fibrous=f,scaly=y,silky=k,smooth=s\n",
    "\n",
    "stalk-surface-below-ring: fibrous=f,scaly=y,silky=k,smooth=s\n",
    "\n",
    "stalk-color-above-ring: brown=n,buff=b,cinnamon=c,gray=g,orange=o,pink=p,red=e,white=w,yellow=y\n",
    "\n",
    "stalk-color-below-ring: brown=n,buff=b,cinnamon=c,gray=g,orange=o,pink=p,red=e,white=w,yellow=y\n",
    "\n",
    "veil-type: partial=p,universal=u\n",
    "\n",
    "veil-color: brown=n,orange=o,white=w,yellow=y\n",
    "\n",
    "ring-number: none=n,one=o,two=t\n",
    "\n",
    "ring-type: cobwebby=c,evanescent=e,flaring=f,large=l,none=n,pendant=p,sheathing=s,zone=z\n",
    "\n",
    "spore-print-color: black=k,brown=n,buff=b,chocolate=h,green=r,orange=o,purple=u,white=w,yellow=y\n",
    "\n",
    "population: abundant=a,clustered=c,numerous=n,scattered=s,several=v,solitary=y\n",
    "\n",
    "habitat: grasses=g,leaves=l,meadows=m,paths=p,urban=u,waste=w,woods=d"
   ]
  },
  {
   "cell_type": "code",
   "execution_count": 5,
   "id": "d6b0373c",
   "metadata": {},
   "outputs": [
    {
     "data": {
      "text/plain": [
       "(8124, 23)"
      ]
     },
     "execution_count": 5,
     "metadata": {},
     "output_type": "execute_result"
    }
   ],
   "source": [
    "# dimension of the data\n",
    "mushroom.shape"
   ]
  },
  {
   "cell_type": "markdown",
   "id": "2f1fc814",
   "metadata": {},
   "source": [
    "As you can see that there are 8124 rows and 23 columns in this data."
   ]
  },
  {
   "cell_type": "code",
   "execution_count": 6,
   "id": "10a9a743",
   "metadata": {},
   "outputs": [
    {
     "data": {
      "text/plain": [
       "class                       object\n",
       "cap-shape                   object\n",
       "cap-surface                 object\n",
       "cap-color                   object\n",
       "bruises                     object\n",
       "odor                        object\n",
       "gill-attachment             object\n",
       "gill-spacing                object\n",
       "gill-size                   object\n",
       "gill-color                  object\n",
       "stalk-shape                 object\n",
       "stalk-root                  object\n",
       "stalk-surface-above-ring    object\n",
       "stalk-surface-below-ring    object\n",
       "stalk-color-above-ring      object\n",
       "stalk-color-below-ring      object\n",
       "veil-type                   object\n",
       "veil-color                  object\n",
       "ring-number                 object\n",
       "ring-type                   object\n",
       "spore-print-color           object\n",
       "population                  object\n",
       "habitat                     object\n",
       "dtype: object"
      ]
     },
     "execution_count": 6,
     "metadata": {},
     "output_type": "execute_result"
    }
   ],
   "source": [
    "# datatypes present in our data\n",
    "mushroom.dtypes"
   ]
  },
  {
   "cell_type": "markdown",
   "id": "97bfdbcc",
   "metadata": {},
   "source": [
    "From above information, we can see that all our data is categorical."
   ]
  },
  {
   "cell_type": "code",
   "execution_count": 7,
   "id": "cbd89f8c",
   "metadata": {},
   "outputs": [
    {
     "data": {
      "text/html": [
       "<div>\n",
       "<style scoped>\n",
       "    .dataframe tbody tr th:only-of-type {\n",
       "        vertical-align: middle;\n",
       "    }\n",
       "\n",
       "    .dataframe tbody tr th {\n",
       "        vertical-align: top;\n",
       "    }\n",
       "\n",
       "    .dataframe thead th {\n",
       "        text-align: right;\n",
       "    }\n",
       "</style>\n",
       "<table border=\"1\" class=\"dataframe\">\n",
       "  <thead>\n",
       "    <tr style=\"text-align: right;\">\n",
       "      <th></th>\n",
       "      <th>count</th>\n",
       "      <th>unique</th>\n",
       "      <th>top</th>\n",
       "      <th>freq</th>\n",
       "    </tr>\n",
       "  </thead>\n",
       "  <tbody>\n",
       "    <tr>\n",
       "      <th>class</th>\n",
       "      <td>8124</td>\n",
       "      <td>2</td>\n",
       "      <td>e</td>\n",
       "      <td>4208</td>\n",
       "    </tr>\n",
       "    <tr>\n",
       "      <th>cap-shape</th>\n",
       "      <td>8124</td>\n",
       "      <td>6</td>\n",
       "      <td>x</td>\n",
       "      <td>3656</td>\n",
       "    </tr>\n",
       "    <tr>\n",
       "      <th>cap-surface</th>\n",
       "      <td>8124</td>\n",
       "      <td>4</td>\n",
       "      <td>y</td>\n",
       "      <td>3244</td>\n",
       "    </tr>\n",
       "    <tr>\n",
       "      <th>cap-color</th>\n",
       "      <td>8124</td>\n",
       "      <td>10</td>\n",
       "      <td>n</td>\n",
       "      <td>2284</td>\n",
       "    </tr>\n",
       "    <tr>\n",
       "      <th>bruises</th>\n",
       "      <td>8124</td>\n",
       "      <td>2</td>\n",
       "      <td>f</td>\n",
       "      <td>4748</td>\n",
       "    </tr>\n",
       "    <tr>\n",
       "      <th>odor</th>\n",
       "      <td>8124</td>\n",
       "      <td>9</td>\n",
       "      <td>n</td>\n",
       "      <td>3528</td>\n",
       "    </tr>\n",
       "    <tr>\n",
       "      <th>gill-attachment</th>\n",
       "      <td>8124</td>\n",
       "      <td>2</td>\n",
       "      <td>f</td>\n",
       "      <td>7914</td>\n",
       "    </tr>\n",
       "    <tr>\n",
       "      <th>gill-spacing</th>\n",
       "      <td>8124</td>\n",
       "      <td>2</td>\n",
       "      <td>c</td>\n",
       "      <td>6812</td>\n",
       "    </tr>\n",
       "    <tr>\n",
       "      <th>gill-size</th>\n",
       "      <td>8124</td>\n",
       "      <td>2</td>\n",
       "      <td>b</td>\n",
       "      <td>5612</td>\n",
       "    </tr>\n",
       "    <tr>\n",
       "      <th>gill-color</th>\n",
       "      <td>8124</td>\n",
       "      <td>12</td>\n",
       "      <td>b</td>\n",
       "      <td>1728</td>\n",
       "    </tr>\n",
       "    <tr>\n",
       "      <th>stalk-shape</th>\n",
       "      <td>8124</td>\n",
       "      <td>2</td>\n",
       "      <td>t</td>\n",
       "      <td>4608</td>\n",
       "    </tr>\n",
       "    <tr>\n",
       "      <th>stalk-root</th>\n",
       "      <td>8124</td>\n",
       "      <td>5</td>\n",
       "      <td>b</td>\n",
       "      <td>3776</td>\n",
       "    </tr>\n",
       "    <tr>\n",
       "      <th>stalk-surface-above-ring</th>\n",
       "      <td>8124</td>\n",
       "      <td>4</td>\n",
       "      <td>s</td>\n",
       "      <td>5176</td>\n",
       "    </tr>\n",
       "    <tr>\n",
       "      <th>stalk-surface-below-ring</th>\n",
       "      <td>8124</td>\n",
       "      <td>4</td>\n",
       "      <td>s</td>\n",
       "      <td>4936</td>\n",
       "    </tr>\n",
       "    <tr>\n",
       "      <th>stalk-color-above-ring</th>\n",
       "      <td>8124</td>\n",
       "      <td>9</td>\n",
       "      <td>w</td>\n",
       "      <td>4464</td>\n",
       "    </tr>\n",
       "    <tr>\n",
       "      <th>stalk-color-below-ring</th>\n",
       "      <td>8124</td>\n",
       "      <td>9</td>\n",
       "      <td>w</td>\n",
       "      <td>4384</td>\n",
       "    </tr>\n",
       "    <tr>\n",
       "      <th>veil-type</th>\n",
       "      <td>8124</td>\n",
       "      <td>1</td>\n",
       "      <td>p</td>\n",
       "      <td>8124</td>\n",
       "    </tr>\n",
       "    <tr>\n",
       "      <th>veil-color</th>\n",
       "      <td>8124</td>\n",
       "      <td>4</td>\n",
       "      <td>w</td>\n",
       "      <td>7924</td>\n",
       "    </tr>\n",
       "    <tr>\n",
       "      <th>ring-number</th>\n",
       "      <td>8124</td>\n",
       "      <td>3</td>\n",
       "      <td>o</td>\n",
       "      <td>7488</td>\n",
       "    </tr>\n",
       "    <tr>\n",
       "      <th>ring-type</th>\n",
       "      <td>8124</td>\n",
       "      <td>5</td>\n",
       "      <td>p</td>\n",
       "      <td>3968</td>\n",
       "    </tr>\n",
       "    <tr>\n",
       "      <th>spore-print-color</th>\n",
       "      <td>8124</td>\n",
       "      <td>9</td>\n",
       "      <td>w</td>\n",
       "      <td>2388</td>\n",
       "    </tr>\n",
       "    <tr>\n",
       "      <th>population</th>\n",
       "      <td>8124</td>\n",
       "      <td>6</td>\n",
       "      <td>v</td>\n",
       "      <td>4040</td>\n",
       "    </tr>\n",
       "    <tr>\n",
       "      <th>habitat</th>\n",
       "      <td>8124</td>\n",
       "      <td>7</td>\n",
       "      <td>d</td>\n",
       "      <td>3148</td>\n",
       "    </tr>\n",
       "  </tbody>\n",
       "</table>\n",
       "</div>"
      ],
      "text/plain": [
       "                         count unique top  freq\n",
       "class                     8124      2   e  4208\n",
       "cap-shape                 8124      6   x  3656\n",
       "cap-surface               8124      4   y  3244\n",
       "cap-color                 8124     10   n  2284\n",
       "bruises                   8124      2   f  4748\n",
       "odor                      8124      9   n  3528\n",
       "gill-attachment           8124      2   f  7914\n",
       "gill-spacing              8124      2   c  6812\n",
       "gill-size                 8124      2   b  5612\n",
       "gill-color                8124     12   b  1728\n",
       "stalk-shape               8124      2   t  4608\n",
       "stalk-root                8124      5   b  3776\n",
       "stalk-surface-above-ring  8124      4   s  5176\n",
       "stalk-surface-below-ring  8124      4   s  4936\n",
       "stalk-color-above-ring    8124      9   w  4464\n",
       "stalk-color-below-ring    8124      9   w  4384\n",
       "veil-type                 8124      1   p  8124\n",
       "veil-color                8124      4   w  7924\n",
       "ring-number               8124      3   o  7488\n",
       "ring-type                 8124      5   p  3968\n",
       "spore-print-color         8124      9   w  2388\n",
       "population                8124      6   v  4040\n",
       "habitat                   8124      7   d  3148"
      ]
     },
     "execution_count": 7,
     "metadata": {},
     "output_type": "execute_result"
    }
   ],
   "source": [
    "# Descriptive statistics of the data\n",
    "mushroom.describe().T"
   ]
  },
  {
   "cell_type": "code",
   "execution_count": 8,
   "id": "4df8ed88",
   "metadata": {},
   "outputs": [
    {
     "name": "stdout",
     "output_type": "stream",
     "text": [
      "<class 'pandas.core.frame.DataFrame'>\n",
      "RangeIndex: 8124 entries, 0 to 8123\n",
      "Data columns (total 23 columns):\n",
      " #   Column                    Non-Null Count  Dtype \n",
      "---  ------                    --------------  ----- \n",
      " 0   class                     8124 non-null   object\n",
      " 1   cap-shape                 8124 non-null   object\n",
      " 2   cap-surface               8124 non-null   object\n",
      " 3   cap-color                 8124 non-null   object\n",
      " 4   bruises                   8124 non-null   object\n",
      " 5   odor                      8124 non-null   object\n",
      " 6   gill-attachment           8124 non-null   object\n",
      " 7   gill-spacing              8124 non-null   object\n",
      " 8   gill-size                 8124 non-null   object\n",
      " 9   gill-color                8124 non-null   object\n",
      " 10  stalk-shape               8124 non-null   object\n",
      " 11  stalk-root                8124 non-null   object\n",
      " 12  stalk-surface-above-ring  8124 non-null   object\n",
      " 13  stalk-surface-below-ring  8124 non-null   object\n",
      " 14  stalk-color-above-ring    8124 non-null   object\n",
      " 15  stalk-color-below-ring    8124 non-null   object\n",
      " 16  veil-type                 8124 non-null   object\n",
      " 17  veil-color                8124 non-null   object\n",
      " 18  ring-number               8124 non-null   object\n",
      " 19  ring-type                 8124 non-null   object\n",
      " 20  spore-print-color         8124 non-null   object\n",
      " 21  population                8124 non-null   object\n",
      " 22  habitat                   8124 non-null   object\n",
      "dtypes: object(23)\n",
      "memory usage: 1.4+ MB\n"
     ]
    }
   ],
   "source": [
    "# Concise summary of the data\n",
    "mushroom.info()"
   ]
  },
  {
   "cell_type": "code",
   "execution_count": 9,
   "id": "337e2f44",
   "metadata": {},
   "outputs": [
    {
     "data": {
      "text/plain": [
       "array(['p', 'e'], dtype=object)"
      ]
     },
     "execution_count": 9,
     "metadata": {},
     "output_type": "execute_result"
    }
   ],
   "source": [
    "# Lets check how many classes are present in the target column\n",
    "mushroom['class'].unique()"
   ]
  },
  {
   "cell_type": "markdown",
   "id": "5e885f5c",
   "metadata": {},
   "source": [
    "Here we can see that there are two classes present in our target column which are 'p' - poisonous and 'e' - edible."
   ]
  },
  {
   "cell_type": "code",
   "execution_count": 10,
   "id": "49a1ec7d",
   "metadata": {},
   "outputs": [
    {
     "data": {
      "text/plain": [
       "e    4208\n",
       "p    3916\n",
       "Name: class, dtype: int64"
      ]
     },
     "execution_count": 10,
     "metadata": {},
     "output_type": "execute_result"
    }
   ],
   "source": [
    "# Now we will check the counts of classes present in the target column\n",
    "mushroom['class'].value_counts()"
   ]
  },
  {
   "cell_type": "markdown",
   "id": "96c5199b",
   "metadata": {},
   "source": [
    "From above table we can see that our data is almost balanced as there are almost equal number of 'p' and 'e' classes."
   ]
  },
  {
   "cell_type": "code",
   "execution_count": 11,
   "id": "e9295abb",
   "metadata": {},
   "outputs": [
    {
     "data": {
      "text/plain": [
       "class                       0\n",
       "cap-shape                   0\n",
       "cap-surface                 0\n",
       "cap-color                   0\n",
       "bruises                     0\n",
       "odor                        0\n",
       "gill-attachment             0\n",
       "gill-spacing                0\n",
       "gill-size                   0\n",
       "gill-color                  0\n",
       "stalk-shape                 0\n",
       "stalk-root                  0\n",
       "stalk-surface-above-ring    0\n",
       "stalk-surface-below-ring    0\n",
       "stalk-color-above-ring      0\n",
       "stalk-color-below-ring      0\n",
       "veil-type                   0\n",
       "veil-color                  0\n",
       "ring-number                 0\n",
       "ring-type                   0\n",
       "spore-print-color           0\n",
       "population                  0\n",
       "habitat                     0\n",
       "dtype: int64"
      ]
     },
     "execution_count": 11,
     "metadata": {},
     "output_type": "execute_result"
    }
   ],
   "source": [
    "# Check for the null / missing values in our data\n",
    "mushroom.isnull().sum()"
   ]
  },
  {
   "cell_type": "markdown",
   "id": "ac76e009",
   "metadata": {},
   "source": [
    "As we can see that there no missing/null values in the dataset. However, if you go through the data description you will find that the missing values in one column is replaced with \"?\". We need to handle this missing values."
   ]
  },
  {
   "cell_type": "code",
   "execution_count": 12,
   "id": "c0afcd90",
   "metadata": {},
   "outputs": [
    {
     "name": "stdout",
     "output_type": "stream",
     "text": [
      "stalk-root 2480\n"
     ]
    }
   ],
   "source": [
    "for i in mushroom.columns:\n",
    "    missing = mushroom[i][mushroom[i]=='?'].count()\n",
    "    if missing != 0:\n",
    "        print(i, missing)"
   ]
  },
  {
   "cell_type": "markdown",
   "id": "ad3a247e",
   "metadata": {},
   "source": [
    "There are 2480 missing values in 'stalk-root' column. First we will replace this values with np.nan so that we can handle missing data."
   ]
  },
  {
   "cell_type": "code",
   "execution_count": 13,
   "id": "0b2cb4d4",
   "metadata": {},
   "outputs": [],
   "source": [
    "mushroom['stalk-root'] = mushroom['stalk-root'].replace(to_replace='?',value=np.nan)"
   ]
  },
  {
   "cell_type": "code",
   "execution_count": 14,
   "id": "682da6b9",
   "metadata": {},
   "outputs": [
    {
     "data": {
      "text/plain": [
       "class                          0\n",
       "cap-shape                      0\n",
       "cap-surface                    0\n",
       "cap-color                      0\n",
       "bruises                        0\n",
       "odor                           0\n",
       "gill-attachment                0\n",
       "gill-spacing                   0\n",
       "gill-size                      0\n",
       "gill-color                     0\n",
       "stalk-shape                    0\n",
       "stalk-root                  2480\n",
       "stalk-surface-above-ring       0\n",
       "stalk-surface-below-ring       0\n",
       "stalk-color-above-ring         0\n",
       "stalk-color-below-ring         0\n",
       "veil-type                      0\n",
       "veil-color                     0\n",
       "ring-number                    0\n",
       "ring-type                      0\n",
       "spore-print-color              0\n",
       "population                     0\n",
       "habitat                        0\n",
       "dtype: int64"
      ]
     },
     "execution_count": 14,
     "metadata": {},
     "output_type": "execute_result"
    }
   ],
   "source": [
    "# Lets check for missing values again\n",
    "mushroom.isnull().sum()"
   ]
  },
  {
   "cell_type": "markdown",
   "id": "9ccfa552",
   "metadata": {},
   "source": [
    "Now we will impute the missing values in 'stalk-root' column using sklearn SimpleImputer"
   ]
  },
  {
   "cell_type": "code",
   "execution_count": 15,
   "id": "f1dbcf19",
   "metadata": {},
   "outputs": [],
   "source": [
    "impute = SimpleImputer(missing_values=np.nan, strategy='most_frequent')"
   ]
  },
  {
   "cell_type": "code",
   "execution_count": 16,
   "id": "41a17c38",
   "metadata": {},
   "outputs": [],
   "source": [
    "mushroom['stalk-root'] = impute.fit_transform(mushroom[['stalk-root']])"
   ]
  },
  {
   "cell_type": "code",
   "execution_count": 17,
   "id": "2836d434",
   "metadata": {},
   "outputs": [
    {
     "name": "stdout",
     "output_type": "stream",
     "text": [
      "class 2\n",
      "cap-shape 6\n",
      "cap-surface 4\n",
      "cap-color 10\n",
      "bruises 2\n",
      "odor 9\n",
      "gill-attachment 2\n",
      "gill-spacing 2\n",
      "gill-size 2\n",
      "gill-color 12\n",
      "stalk-shape 2\n",
      "stalk-root 4\n",
      "stalk-surface-above-ring 4\n",
      "stalk-surface-below-ring 4\n",
      "stalk-color-above-ring 9\n",
      "stalk-color-below-ring 9\n",
      "veil-type 1\n",
      "veil-color 4\n",
      "ring-number 3\n",
      "ring-type 5\n",
      "spore-print-color 9\n",
      "population 6\n",
      "habitat 7\n"
     ]
    }
   ],
   "source": [
    "# Lets check how many unique values are present in each columns\n",
    "for i in mushroom.columns:\n",
    "    print(i,mushroom[i].nunique())"
   ]
  },
  {
   "cell_type": "markdown",
   "id": "4e703c21",
   "metadata": {},
   "source": [
    "From above data we can see that 'veil-type' has only one value throughout the data. So it won't give us much information regarding the class of the mushroom. So we will drop this column."
   ]
  },
  {
   "cell_type": "code",
   "execution_count": 18,
   "id": "8b996d6a",
   "metadata": {},
   "outputs": [],
   "source": [
    "mushroom = mushroom.drop(['veil-type'],axis=1)"
   ]
  },
  {
   "cell_type": "code",
   "execution_count": 19,
   "id": "e5afd0e3",
   "metadata": {},
   "outputs": [
    {
     "data": {
      "text/plain": [
       "class                       0\n",
       "cap-shape                   0\n",
       "cap-surface                 0\n",
       "cap-color                   0\n",
       "bruises                     0\n",
       "odor                        0\n",
       "gill-attachment             0\n",
       "gill-spacing                0\n",
       "gill-size                   0\n",
       "gill-color                  0\n",
       "stalk-shape                 0\n",
       "stalk-root                  0\n",
       "stalk-surface-above-ring    0\n",
       "stalk-surface-below-ring    0\n",
       "stalk-color-above-ring      0\n",
       "stalk-color-below-ring      0\n",
       "veil-color                  0\n",
       "ring-number                 0\n",
       "ring-type                   0\n",
       "spore-print-color           0\n",
       "population                  0\n",
       "habitat                     0\n",
       "dtype: int64"
      ]
     },
     "execution_count": 19,
     "metadata": {},
     "output_type": "execute_result"
    }
   ],
   "source": [
    "mushroom.isnull().sum()"
   ]
  },
  {
   "cell_type": "markdown",
   "id": "8e849ad0",
   "metadata": {},
   "source": [
    "Now there are no missing values in our data"
   ]
  },
  {
   "cell_type": "markdown",
   "id": "e1fb5585",
   "metadata": {},
   "source": [
    "### Exploratory Data Analysis"
   ]
  },
  {
   "cell_type": "markdown",
   "id": "a73c104e",
   "metadata": {},
   "source": [
    "Now we will visualize our data using matplotlib and seaborn"
   ]
  },
  {
   "cell_type": "markdown",
   "id": "1e367fc6",
   "metadata": {},
   "source": [
    "Here we will include only those columns which we have obtained during feature selection part."
   ]
  },
  {
   "cell_type": "code",
   "execution_count": 20,
   "id": "4e94dd1e",
   "metadata": {},
   "outputs": [
    {
     "data": {
      "text/plain": [
       "e    4208\n",
       "p    3916\n",
       "Name: class, dtype: int64"
      ]
     },
     "execution_count": 20,
     "metadata": {},
     "output_type": "execute_result"
    }
   ],
   "source": [
    "# Let's check the counts of classes present in Target column \"class\" \n",
    "mushroom['class'].value_counts()"
   ]
  },
  {
   "cell_type": "code",
   "execution_count": 21,
   "id": "f54ba99d",
   "metadata": {},
   "outputs": [
    {
     "data": {
      "image/png": "[encoded data removed]",
      "text/plain": [
       "<Figure size 1000x600 with 1 Axes>"
      ]
     },
     "metadata": {},
     "output_type": "display_data"
    }
   ],
   "source": [
    "# let's visualize the target column 'class'\n",
    "\n",
    "plt.figure(figsize=(10,6))\n",
    "mush_class = sns.countplot(x='class',data=mushroom)\n",
    "plt.xlabel('Class Type')\n",
    "plt.ylabel('Number of Counts')\n",
    "mush_class.set_xticklabels(['p : Poisonous','e : Edible'])\n",
    "plt.title('Mushroom Class Type')\n",
    "plt.show()"
   ]
  },
  {
   "cell_type": "markdown",
   "id": "0a828731",
   "metadata": {},
   "source": [
    "From above countplot we can see that the class type 'poisonous' has 3916 counts and 'edible' has 4208 counts so we have nearly equal counts for poisonous and edible classes in our data. Hence we can say that our data is balanced."
   ]
  },
  {
   "cell_type": "code",
   "execution_count": 22,
   "id": "beca592d",
   "metadata": {},
   "outputs": [
    {
     "data": {
      "text/plain": [
       "y    3244\n",
       "s    2556\n",
       "f    2320\n",
       "g       4\n",
       "Name: cap-surface, dtype: int64"
      ]
     },
     "execution_count": 22,
     "metadata": {},
     "output_type": "execute_result"
    }
   ],
   "source": [
    "# Let's check count of classes present in 'cap-surface' column\n",
    "CapSurface = mushroom['cap-surface'].value_counts()\n",
    "CapSurface"
   ]
  },
  {
   "cell_type": "code",
   "execution_count": 23,
   "id": "ac9b4fe8",
   "metadata": {},
   "outputs": [
    {
     "data": {
      "text/plain": [
       "cap-surface  class\n",
       "f            e        1560\n",
       "             p         760\n",
       "g            p           4\n",
       "s            p        1412\n",
       "             e        1144\n",
       "y            p        1740\n",
       "             e        1504\n",
       "Name: class, dtype: int64"
      ]
     },
     "execution_count": 23,
     "metadata": {},
     "output_type": "execute_result"
    }
   ],
   "source": [
    "# Let's see each type with the counts of target class column\n",
    "mushroom.groupby(['cap-surface'])['class'].value_counts()"
   ]
  },
  {
   "cell_type": "code",
   "execution_count": 24,
   "id": "bbbf0fc3",
   "metadata": {},
   "outputs": [
    {
     "data": {
      "image/png": "[encoded data removed]",
      "text/plain": [
       "<Figure size 1000x600 with 1 Axes>"
      ]
     },
     "metadata": {},
     "output_type": "display_data"
    }
   ],
   "source": [
    "# Let's visualize the feature column 'cap-surface' w.r.t. target column 'class'\n",
    "\n",
    "plt.figure(figsize=(10,6))\n",
    "cap_surface = sns.countplot(x='cap-surface',data=mushroom,hue='class')\n",
    "plt.xlabel('Cap-Surface')\n",
    "plt.ylabel('Number of Counts')\n",
    "cap_surface.set_xticklabels(['s : Smooth', 'y : Scaly', 'f : Fibrous', 'g : grooves'])\n",
    "plt.title('Mushroom Cap-Surface Types w.r.t. Class')\n",
    "plt.show()"
   ]
  },
  {
   "cell_type": "markdown",
   "id": "1bff35af",
   "metadata": {},
   "source": [
    "From above analysis, we can say that there are 4 types of cap-surface in a mushroom and also it suggests that 'edible' mushrooms do not have 'cap-surface' : 'g : grooves' according to our data."
   ]
  },
  {
   "cell_type": "code",
   "execution_count": 25,
   "id": "6e22e415",
   "metadata": {},
   "outputs": [
    {
     "data": {
      "text/plain": [
       "f    4748\n",
       "t    3376\n",
       "Name: bruises, dtype: int64"
      ]
     },
     "execution_count": 25,
     "metadata": {},
     "output_type": "execute_result"
    }
   ],
   "source": [
    "# Let's check count of classes present in 'bruises' column\n",
    "Bruises = mushroom['bruises'].value_counts()\n",
    "Bruises"
   ]
  },
  {
   "cell_type": "code",
   "execution_count": 26,
   "id": "69b3f525",
   "metadata": {},
   "outputs": [
    {
     "data": {
      "text/plain": [
       "bruises  class\n",
       "f        p        3292\n",
       "         e        1456\n",
       "t        e        2752\n",
       "         p         624\n",
       "Name: class, dtype: int64"
      ]
     },
     "execution_count": 26,
     "metadata": {},
     "output_type": "execute_result"
    }
   ],
   "source": [
    "# Let's see each type with the counts of target class column\n",
    "mushroom.groupby(['bruises'])['class'].value_counts()"
   ]
  },
  {
   "cell_type": "code",
   "execution_count": 27,
   "id": "78a5bb3f",
   "metadata": {},
   "outputs": [
    {
     "data": {
      "image/png": "[encoded data removed]",
      "text/plain": [
       "<Figure size 1000x600 with 1 Axes>"
      ]
     },
     "metadata": {},
     "output_type": "display_data"
    }
   ],
   "source": [
    "# Let's visualize the feature column 'bruises' w.r.t. target column 'class'\n",
    "\n",
    "plt.figure(figsize=(10,6))\n",
    "bruises = sns.countplot(x='bruises',data=mushroom,hue='class')\n",
    "plt.xlabel('Bruises')\n",
    "plt.ylabel('Number of Counts')\n",
    "bruises.set_xticklabels(['t : Bruises', 'f : No'])\n",
    "plt.title('Mushroom Bruises Types w.r.t. Class')\n",
    "plt.show()"
   ]
  },
  {
   "cell_type": "markdown",
   "id": "b48b6279",
   "metadata": {},
   "source": [
    "From above analysis, we can say that mushroom may or may not have bruises but still it could be poisonous or edible according to our data."
   ]
  },
  {
   "cell_type": "code",
   "execution_count": 28,
   "id": "0d4c6c6e",
   "metadata": {},
   "outputs": [
    {
     "data": {
      "text/plain": [
       "c    6812\n",
       "w    1312\n",
       "Name: gill-spacing, dtype: int64"
      ]
     },
     "execution_count": 28,
     "metadata": {},
     "output_type": "execute_result"
    }
   ],
   "source": [
    "# Let's check count of classes present in 'bruises' column\n",
    "GillSpacing = mushroom['gill-spacing'].value_counts()\n",
    "GillSpacing"
   ]
  },
  {
   "cell_type": "code",
   "execution_count": 29,
   "id": "3ced186d",
   "metadata": {},
   "outputs": [
    {
     "data": {
      "text/plain": [
       "gill-spacing  class\n",
       "c             p        3804\n",
       "              e        3008\n",
       "w             e        1200\n",
       "              p         112\n",
       "Name: class, dtype: int64"
      ]
     },
     "execution_count": 29,
     "metadata": {},
     "output_type": "execute_result"
    }
   ],
   "source": [
    "# Let's see each type with the counts of target class column\n",
    "mushroom.groupby(['gill-spacing'])['class'].value_counts()"
   ]
  },
  {
   "cell_type": "code",
   "execution_count": 30,
   "id": "296d1bf9",
   "metadata": {},
   "outputs": [
    {
     "data": {
      "image/png": "[encoded data removed]",
      "text/plain": [
       "<Figure size 1000x600 with 1 Axes>"
      ]
     },
     "metadata": {},
     "output_type": "display_data"
    }
   ],
   "source": [
    "# Let's visualize the feature column 'gill-spacing' w.r.t. target column 'class'\n",
    "\n",
    "plt.figure(figsize=(10,6))\n",
    "gill_spacing = sns.countplot(x='gill-spacing',data=mushroom,hue='class')\n",
    "plt.xlabel('Gill-Spacing')\n",
    "plt.ylabel('Number of Counts')\n",
    "gill_spacing.set_xticklabels(['c : Close', 'w : Crowded'])\n",
    "plt.title('Mushroom Gill-Spacing Types w.r.t. Class')\n",
    "plt.show()"
   ]
  },
  {
   "cell_type": "markdown",
   "id": "69c7b05a",
   "metadata": {},
   "source": [
    "From above analysis, we can say that mushroom can have Gill Spacing as Close or Crowded but still it could be poisonous or edible according to our data."
   ]
  },
  {
   "cell_type": "code",
   "execution_count": 31,
   "id": "a64a273a",
   "metadata": {},
   "outputs": [
    {
     "data": {
      "text/plain": [
       "b    5612\n",
       "n    2512\n",
       "Name: gill-size, dtype: int64"
      ]
     },
     "execution_count": 31,
     "metadata": {},
     "output_type": "execute_result"
    }
   ],
   "source": [
    "# Let's check count of classes present in 'gill-size' column\n",
    "GillSize = mushroom['gill-size'].value_counts()\n",
    "GillSize"
   ]
  },
  {
   "cell_type": "code",
   "execution_count": 32,
   "id": "3668105d",
   "metadata": {},
   "outputs": [
    {
     "data": {
      "text/plain": [
       "gill-size  class\n",
       "b          e        3920\n",
       "           p        1692\n",
       "n          p        2224\n",
       "           e         288\n",
       "Name: class, dtype: int64"
      ]
     },
     "execution_count": 32,
     "metadata": {},
     "output_type": "execute_result"
    }
   ],
   "source": [
    "# Let's see each type with the counts of target class column\n",
    "mushroom.groupby(['gill-size'])['class'].value_counts()"
   ]
  },
  {
   "cell_type": "code",
   "execution_count": 33,
   "id": "ec985ede",
   "metadata": {},
   "outputs": [
    {
     "data": {
      "image/png": "[encoded data removed]",
      "text/plain": [
       "<Figure size 1000x600 with 1 Axes>"
      ]
     },
     "metadata": {},
     "output_type": "display_data"
    }
   ],
   "source": [
    "# Let's visualize the feature column 'gill-size' w.r.t. target column 'class'\n",
    "\n",
    "plt.figure(figsize=(10,6))\n",
    "gill_size = sns.countplot(x='gill-size',data=mushroom,hue='class')\n",
    "plt.xlabel('Gill-Size')\n",
    "plt.ylabel('Number of Counts')\n",
    "gill_size.set_xticklabels(['n : Narrow', 'b : Broad'])\n",
    "plt.title('Mushroom Gill-Size Types w.r.t. Class')\n",
    "plt.show()"
   ]
  },
  {
   "cell_type": "markdown",
   "id": "2e545200",
   "metadata": {},
   "source": [
    "From above analysis, we can say that mushroom can have Gill Size as Narrow or Broad but still it could be poisonous or edible according to our data."
   ]
  },
  {
   "cell_type": "code",
   "execution_count": 34,
   "id": "6fb8e48d",
   "metadata": {},
   "outputs": [
    {
     "data": {
      "text/plain": [
       "b    1728\n",
       "p    1492\n",
       "w    1202\n",
       "n    1048\n",
       "g     752\n",
       "h     732\n",
       "u     492\n",
       "k     408\n",
       "e      96\n",
       "y      86\n",
       "o      64\n",
       "r      24\n",
       "Name: gill-color, dtype: int64"
      ]
     },
     "execution_count": 34,
     "metadata": {},
     "output_type": "execute_result"
    }
   ],
   "source": [
    "# Let's check count of classes present in 'gill-color' column\n",
    "GillColor = mushroom['gill-color'].value_counts()\n",
    "GillColor"
   ]
  },
  {
   "cell_type": "code",
   "execution_count": 35,
   "id": "8f422d7f",
   "metadata": {},
   "outputs": [
    {
     "data": {
      "text/plain": [
       "gill-color  class\n",
       "b           p        1728\n",
       "e           e          96\n",
       "g           p         504\n",
       "            e         248\n",
       "h           p         528\n",
       "            e         204\n",
       "k           e         344\n",
       "            p          64\n",
       "n           e         936\n",
       "            p         112\n",
       "o           e          64\n",
       "p           e         852\n",
       "            p         640\n",
       "r           p          24\n",
       "u           e         444\n",
       "            p          48\n",
       "w           e         956\n",
       "            p         246\n",
       "y           e          64\n",
       "            p          22\n",
       "Name: class, dtype: int64"
      ]
     },
     "execution_count": 35,
     "metadata": {},
     "output_type": "execute_result"
    }
   ],
   "source": [
    "# Let's see each type with the counts of target class column\n",
    "mushroom.groupby(['gill-color'])['class'].value_counts()"
   ]
  },
  {
   "cell_type": "code",
   "execution_count": 36,
   "id": "d7caef03",
   "metadata": {},
   "outputs": [
    {
     "data": {
      "image/png": "[encoded data removed]",
      "text/plain": [
       "<Figure size 1500x600 with 1 Axes>"
      ]
     },
     "metadata": {},
     "output_type": "display_data"
    }
   ],
   "source": [
    "# Let's visualize the feature column 'gill-color' w.r.t. target column 'class'\n",
    "\n",
    "plt.figure(figsize=(15,6))\n",
    "gill_color = sns.countplot(x='gill-color',data=mushroom,hue='class')\n",
    "plt.xlabel('Gill-Color')\n",
    "plt.ylabel('Number of Counts')\n",
    "gill_color.set_xticklabels(['k: Black', 'n: Brown', 'g: Gray', 'p: pink', 'w: White', \n",
    "                           'h: Chocolate', 'u: Purple', 'e: Red', 'b: Buff', 'r: Green', \n",
    "                           'y: Yellow', 'o: Orange'])\n",
    "plt.title('Mushroom Gill-Color Types w.r.t. Class')\n",
    "plt.show()"
   ]
  },
  {
   "cell_type": "markdown",
   "id": "b1d4fb3d",
   "metadata": {},
   "source": [
    "From above analysis, we can say that 'edible' mushroom do not have Gill Color : Buff, Green and 'poisonous' mushroom do not have Gill Color : Red, Orange according to our data."
   ]
  },
  {
   "cell_type": "code",
   "execution_count": 37,
   "id": "7db039a1",
   "metadata": {},
   "outputs": [
    {
     "data": {
      "text/plain": [
       "b    6256\n",
       "e    1120\n",
       "c     556\n",
       "r     192\n",
       "Name: stalk-root, dtype: int64"
      ]
     },
     "execution_count": 37,
     "metadata": {},
     "output_type": "execute_result"
    }
   ],
   "source": [
    "# Let's check count of classes present in 'stalk-root' column\n",
    "StalkRoot = mushroom['stalk-root'].value_counts()\n",
    "StalkRoot"
   ]
  },
  {
   "cell_type": "code",
   "execution_count": 38,
   "id": "977f3d22",
   "metadata": {},
   "outputs": [
    {
     "data": {
      "text/plain": [
       "stalk-root  class\n",
       "b           p        3616\n",
       "            e        2640\n",
       "c           e         512\n",
       "            p          44\n",
       "e           e         864\n",
       "            p         256\n",
       "r           e         192\n",
       "Name: class, dtype: int64"
      ]
     },
     "execution_count": 38,
     "metadata": {},
     "output_type": "execute_result"
    }
   ],
   "source": [
    "# Let's see each type with the counts of target class column\n",
    "mushroom.groupby(['stalk-root'])['class'].value_counts()"
   ]
  },
  {
   "cell_type": "code",
   "execution_count": 39,
   "id": "d1469719",
   "metadata": {},
   "outputs": [
    {
     "data": {
      "image/png": "[encoded data removed]",
      "text/plain": [
       "<Figure size 1000x600 with 1 Axes>"
      ]
     },
     "metadata": {},
     "output_type": "display_data"
    }
   ],
   "source": [
    "# Let's visualize the feature column 'stalk-root' w.r.t. target column 'class'\n",
    "\n",
    "plt.figure(figsize=(10,6))\n",
    "stalk_root = sns.countplot(x='stalk-root',data=mushroom,hue='class')\n",
    "plt.xlabel('Stalk-Root')\n",
    "plt.ylabel('Number of Counts')\n",
    "stalk_root.set_xticklabels(['e: Equal', 'c: Club', 'b: Bulbous', 'r: Rooted'])\n",
    "plt.title('Mushroom Stalk-Root Types w.r.t. Class')\n",
    "plt.show()"
   ]
  },
  {
   "cell_type": "markdown",
   "id": "7d7e8a8e",
   "metadata": {},
   "source": [
    "From above analysis, we can say that 'poisonous' mushroom do not have Stalk Root as Rooted type according to our data."
   ]
  },
  {
   "cell_type": "code",
   "execution_count": 40,
   "id": "62cc3c3c",
   "metadata": {},
   "outputs": [
    {
     "data": {
      "text/plain": [
       "s    5176\n",
       "k    2372\n",
       "f     552\n",
       "y      24\n",
       "Name: stalk-surface-above-ring, dtype: int64"
      ]
     },
     "execution_count": 40,
     "metadata": {},
     "output_type": "execute_result"
    }
   ],
   "source": [
    "# Let's check count of classes present in 'stalk-surface-above-ring' column\n",
    "StalkSurfaceAboveRing = mushroom['stalk-surface-above-ring'].value_counts()\n",
    "StalkSurfaceAboveRing"
   ]
  },
  {
   "cell_type": "code",
   "execution_count": 41,
   "id": "0b1e78b1",
   "metadata": {},
   "outputs": [
    {
     "data": {
      "text/plain": [
       "stalk-surface-above-ring  class\n",
       "f                         e         408\n",
       "                          p         144\n",
       "k                         p        2228\n",
       "                          e         144\n",
       "s                         e        3640\n",
       "                          p        1536\n",
       "y                         e          16\n",
       "                          p           8\n",
       "Name: class, dtype: int64"
      ]
     },
     "execution_count": 41,
     "metadata": {},
     "output_type": "execute_result"
    }
   ],
   "source": [
    "# Let's see each type with the counts of target class column\n",
    "mushroom.groupby(['stalk-surface-above-ring'])['class'].value_counts()"
   ]
  },
  {
   "cell_type": "code",
   "execution_count": 42,
   "id": "8c25435b",
   "metadata": {},
   "outputs": [
    {
     "data": {
      "image/png": "[encoded data removed]",
      "text/plain": [
       "<Figure size 1000x600 with 1 Axes>"
      ]
     },
     "metadata": {},
     "output_type": "display_data"
    }
   ],
   "source": [
    "# Let's visualize the feature column 'stalk-surface-above-ring' w.r.t. target column 'class'\n",
    "\n",
    "plt.figure(figsize=(10,6))\n",
    "stalk_surface_above_ring = sns.countplot(x='stalk-surface-above-ring',data=mushroom,hue='class')\n",
    "plt.xlabel('Stalk-Surface-Above-Ring')\n",
    "plt.ylabel('Number of Counts')\n",
    "stalk_surface_above_ring.set_xticklabels(['s: Smooth', 'f: Fibrous', 'k: Silky', 'y: Scaly'])\n",
    "plt.title('Mushroom Stalk-Surface-Above-Ring Types w.r.t. Class')\n",
    "plt.show()"
   ]
  },
  {
   "cell_type": "markdown",
   "id": "52093ade",
   "metadata": {},
   "source": [
    "From above analysis, we can say that mushroom can have Stalk-Surface-Above-Ring as Smooth, Fibrous, Silky or Scaly but still it could be poisonous or edible according to our data."
   ]
  },
  {
   "cell_type": "code",
   "execution_count": 43,
   "id": "e9fd98be",
   "metadata": {},
   "outputs": [
    {
     "data": {
      "text/plain": [
       "s    4936\n",
       "k    2304\n",
       "f     600\n",
       "y     284\n",
       "Name: stalk-surface-below-ring, dtype: int64"
      ]
     },
     "execution_count": 43,
     "metadata": {},
     "output_type": "execute_result"
    }
   ],
   "source": [
    "# Let's check count of classes present in 'stalk-surface-below-ring' column\n",
    "StalkSurfaceBelowRing = mushroom['stalk-surface-below-ring'].value_counts()\n",
    "StalkSurfaceBelowRing"
   ]
  },
  {
   "cell_type": "code",
   "execution_count": 44,
   "id": "1327e59a",
   "metadata": {},
   "outputs": [
    {
     "data": {
      "text/plain": [
       "stalk-surface-below-ring  class\n",
       "f                         e         456\n",
       "                          p         144\n",
       "k                         p        2160\n",
       "                          e         144\n",
       "s                         e        3400\n",
       "                          p        1536\n",
       "y                         e         208\n",
       "                          p          76\n",
       "Name: class, dtype: int64"
      ]
     },
     "execution_count": 44,
     "metadata": {},
     "output_type": "execute_result"
    }
   ],
   "source": [
    "# Let's see each type with the counts of target class column\n",
    "mushroom.groupby(['stalk-surface-below-ring'])['class'].value_counts()"
   ]
  },
  {
   "cell_type": "code",
   "execution_count": 45,
   "id": "0c238c43",
   "metadata": {},
   "outputs": [
    {
     "data": {
      "image/png": "[encoded data removed]",
      "text/plain": [
       "<Figure size 1000x600 with 1 Axes>"
      ]
     },
     "metadata": {},
     "output_type": "display_data"
    }
   ],
   "source": [
    "# Let's visualize the feature column 'stalk-surface-below-ring' w.r.t. target column 'class'\n",
    "\n",
    "plt.figure(figsize=(10,6))\n",
    "stalk_surface_below_ring = sns.countplot(x='stalk-surface-below-ring',data=mushroom,hue='class')\n",
    "plt.xlabel('Stalk-Surface-Below-Ring')\n",
    "plt.ylabel('Number of Counts')\n",
    "stalk_surface_below_ring.set_xticklabels(['s: Smooth', 'f: Fibrous', 'y: Scaly', 'k: Silky'])\n",
    "plt.title('Mushroom Stalk-Surface-Below-Ring Types w.r.t. Class')\n",
    "plt.show()"
   ]
  },
  {
   "cell_type": "markdown",
   "id": "127f51d3",
   "metadata": {},
   "source": [
    "From above analysis, we can say that mushroom can have Stalk-Surface-Below-Ring as Smooth, Fibrous, Silky or Scaly but still it could be poisonous or edible according to our data."
   ]
  },
  {
   "cell_type": "code",
   "execution_count": 46,
   "id": "0562b111",
   "metadata": {},
   "outputs": [
    {
     "data": {
      "text/plain": [
       "p    3968\n",
       "e    2776\n",
       "l    1296\n",
       "f      48\n",
       "n      36\n",
       "Name: ring-type, dtype: int64"
      ]
     },
     "execution_count": 46,
     "metadata": {},
     "output_type": "execute_result"
    }
   ],
   "source": [
    "# Let's check count of classes present in 'ring-type' column\n",
    "RingType = mushroom['ring-type'].value_counts()\n",
    "RingType"
   ]
  },
  {
   "cell_type": "code",
   "execution_count": 47,
   "id": "17c854f6",
   "metadata": {},
   "outputs": [
    {
     "data": {
      "text/plain": [
       "ring-type  class\n",
       "e          p        1768\n",
       "           e        1008\n",
       "f          e          48\n",
       "l          p        1296\n",
       "n          p          36\n",
       "p          e        3152\n",
       "           p         816\n",
       "Name: class, dtype: int64"
      ]
     },
     "execution_count": 47,
     "metadata": {},
     "output_type": "execute_result"
    }
   ],
   "source": [
    "# Let's see each type with the counts of target class column\n",
    "mushroom.groupby(['ring-type'])['class'].value_counts()"
   ]
  },
  {
   "cell_type": "code",
   "execution_count": 48,
   "id": "51ebc502",
   "metadata": {},
   "outputs": [
    {
     "data": {
      "image/png": "[encoded data removed]",
      "text/plain": [
       "<Figure size 1000x600 with 1 Axes>"
      ]
     },
     "metadata": {},
     "output_type": "display_data"
    }
   ],
   "source": [
    "# Let's visualize the feature column 'ring-type' w.r.t. target column 'class'\n",
    "\n",
    "plt.figure(figsize=(10,6))\n",
    "ring_type = sns.countplot(x='ring-type',data=mushroom,hue='class')\n",
    "plt.xlabel('Ring-Type')\n",
    "plt.ylabel('Number of Counts')\n",
    "ring_type.set_xticklabels(['p: Pendant', 'e: Evanescent', 'l: Large', 'f: Flaring', 'n : None'])\n",
    "plt.title('Mushroom Ring-Type Types w.r.t. Class')\n",
    "plt.show()"
   ]
  },
  {
   "cell_type": "markdown",
   "id": "5de9fdc6",
   "metadata": {},
   "source": [
    "From above analysis, we can say that 'edible' mushroom do not have Ring-Type as Large and None and 'poisonous' mushroom do not have Ring-Type as Flaring according to our data."
   ]
  },
  {
   "cell_type": "code",
   "execution_count": 49,
   "id": "27438068",
   "metadata": {},
   "outputs": [
    {
     "data": {
      "text/plain": [
       "w    2388\n",
       "n    1968\n",
       "k    1872\n",
       "h    1632\n",
       "r      72\n",
       "u      48\n",
       "o      48\n",
       "y      48\n",
       "b      48\n",
       "Name: spore-print-color, dtype: int64"
      ]
     },
     "execution_count": 49,
     "metadata": {},
     "output_type": "execute_result"
    }
   ],
   "source": [
    "# Let's check count of classes present in 'spore-print-color' column\n",
    "SporePrintColor = mushroom['spore-print-color'].value_counts()\n",
    "SporePrintColor"
   ]
  },
  {
   "cell_type": "code",
   "execution_count": 50,
   "id": "5cc0a5c7",
   "metadata": {},
   "outputs": [
    {
     "data": {
      "text/plain": [
       "spore-print-color  class\n",
       "b                  e          48\n",
       "h                  p        1584\n",
       "                   e          48\n",
       "k                  e        1648\n",
       "                   p         224\n",
       "n                  e        1744\n",
       "                   p         224\n",
       "o                  e          48\n",
       "r                  p          72\n",
       "u                  e          48\n",
       "w                  p        1812\n",
       "                   e         576\n",
       "y                  e          48\n",
       "Name: class, dtype: int64"
      ]
     },
     "execution_count": 50,
     "metadata": {},
     "output_type": "execute_result"
    }
   ],
   "source": [
    "# Let's see each type with the counts of target class column\n",
    "mushroom.groupby(['spore-print-color'])['class'].value_counts()"
   ]
  },
  {
   "cell_type": "code",
   "execution_count": 51,
   "id": "a6f6748c",
   "metadata": {},
   "outputs": [
    {
     "data": {
      "image/png": "[encoded data removed]",
      "text/plain": [
       "<Figure size 1500x600 with 1 Axes>"
      ]
     },
     "metadata": {},
     "output_type": "display_data"
    }
   ],
   "source": [
    "# Let's visualize the feature column 'spore-print-color' w.r.t. target column 'class'\n",
    "\n",
    "plt.figure(figsize=(15,6))\n",
    "spore_print_color = sns.countplot(x='spore-print-color',data=mushroom,hue='class')\n",
    "plt.xlabel('Spore-Print-Color')\n",
    "plt.ylabel('Number of Counts')\n",
    "spore_print_color.set_xticklabels(['k: Black', 'n: Brown', 'u: Purple', 'h: Chocolate', 'w : White', \n",
    "                                  'r: Green', 'o: Orange', 'y: Yellow', 'b: Buff'])\n",
    "plt.title('Mushroom Spore-Print-Color Types w.r.t. Class')\n",
    "plt.show()"
   ]
  },
  {
   "cell_type": "markdown",
   "id": "3c954c3f",
   "metadata": {},
   "source": [
    "From above analysis, we can say that 'edible' mushrooms do not have Spore-Print-Color as Green and 'poisonous' mushrooms do not have Spore-Print-Color as Purple, Orange, Yellow, Buff according to our data."
   ]
  },
  {
   "cell_type": "code",
   "execution_count": 52,
   "id": "b56a265c",
   "metadata": {},
   "outputs": [
    {
     "data": {
      "text/plain": [
       "v    4040\n",
       "y    1712\n",
       "s    1248\n",
       "n     400\n",
       "a     384\n",
       "c     340\n",
       "Name: population, dtype: int64"
      ]
     },
     "execution_count": 52,
     "metadata": {},
     "output_type": "execute_result"
    }
   ],
   "source": [
    "# Let's check count of classes present in 'population' column\n",
    "Population = mushroom['population'].value_counts()\n",
    "Population"
   ]
  },
  {
   "cell_type": "code",
   "execution_count": 53,
   "id": "dabf94cf",
   "metadata": {},
   "outputs": [
    {
     "data": {
      "text/plain": [
       "population  class\n",
       "a           e         384\n",
       "c           e         288\n",
       "            p          52\n",
       "n           e         400\n",
       "s           e         880\n",
       "            p         368\n",
       "v           p        2848\n",
       "            e        1192\n",
       "y           e        1064\n",
       "            p         648\n",
       "Name: class, dtype: int64"
      ]
     },
     "execution_count": 53,
     "metadata": {},
     "output_type": "execute_result"
    }
   ],
   "source": [
    "# Let's see each type with the counts of target class column\n",
    "mushroom.groupby(['population'])['class'].value_counts()"
   ]
  },
  {
   "cell_type": "code",
   "execution_count": 54,
   "id": "887a8798",
   "metadata": {},
   "outputs": [
    {
     "data": {
      "image/png": "[encoded data removed]",
      "text/plain": [
       "<Figure size 1500x600 with 1 Axes>"
      ]
     },
     "metadata": {},
     "output_type": "display_data"
    }
   ],
   "source": [
    "# Let's visualize the feature column 'population' w.r.t. target column 'class'\n",
    "\n",
    "plt.figure(figsize=(15,6))\n",
    "population = sns.countplot(x='population',data=mushroom,hue='class')\n",
    "plt.xlabel('Population')\n",
    "plt.ylabel('Number of Counts')\n",
    "population.set_xticklabels(['s: Scattered', 'n: Numerous', 'a: Abundant', 'v: Several', 'y : Solitary', 'c: Clustered'])\n",
    "plt.title('Mushroom Population Types w.r.t. Class')\n",
    "plt.show()"
   ]
  },
  {
   "cell_type": "markdown",
   "id": "272ef3bb",
   "metadata": {},
   "source": [
    "From above analysis, we can say that 'poisonous' mushrooms do not have Population Type as Numerous and Abundant according to our data."
   ]
  },
  {
   "cell_type": "code",
   "execution_count": 55,
   "id": "7ec1f40f",
   "metadata": {},
   "outputs": [
    {
     "data": {
      "text/plain": [
       "d    3148\n",
       "g    2148\n",
       "p    1144\n",
       "l     832\n",
       "u     368\n",
       "m     292\n",
       "w     192\n",
       "Name: habitat, dtype: int64"
      ]
     },
     "execution_count": 55,
     "metadata": {},
     "output_type": "execute_result"
    }
   ],
   "source": [
    "# Let's check count of classes present in 'habitat' column\n",
    "Habitat = mushroom['habitat'].value_counts()\n",
    "Habitat"
   ]
  },
  {
   "cell_type": "code",
   "execution_count": 56,
   "id": "631b6763",
   "metadata": {},
   "outputs": [
    {
     "data": {
      "text/plain": [
       "habitat  class\n",
       "d        e        1880\n",
       "         p        1268\n",
       "g        e        1408\n",
       "         p         740\n",
       "l        p         592\n",
       "         e         240\n",
       "m        e         256\n",
       "         p          36\n",
       "p        p        1008\n",
       "         e         136\n",
       "u        p         272\n",
       "         e          96\n",
       "w        e         192\n",
       "Name: class, dtype: int64"
      ]
     },
     "execution_count": 56,
     "metadata": {},
     "output_type": "execute_result"
    }
   ],
   "source": [
    "# Let's see each type with the counts of target class column\n",
    "mushroom.groupby(['habitat'])['class'].value_counts()"
   ]
  },
  {
   "cell_type": "code",
   "execution_count": 57,
   "id": "447d0822",
   "metadata": {},
   "outputs": [
    {
     "data": {
      "image/png": "[encoded data removed]",
      "text/plain": [
       "<Figure size 1500x600 with 1 Axes>"
      ]
     },
     "metadata": {},
     "output_type": "display_data"
    }
   ],
   "source": [
    "# Let's visualize the feature column 'habitat' w.r.t. target column 'class'\n",
    "\n",
    "plt.figure(figsize=(15,6))\n",
    "habitat = sns.countplot(x='habitat',data=mushroom,hue='class')\n",
    "plt.xlabel('Habitat')\n",
    "plt.ylabel('Number of Counts')\n",
    "habitat.set_xticklabels(['u: Urban', 'g: Grasses', 'm: Meadows', 'd: Woods', 'p : Paths', 'w: Waste', 'l: Leaves'])\n",
    "plt.title('Mushroom Habitat Types w.r.t. Class')\n",
    "plt.show()"
   ]
  },
  {
   "cell_type": "markdown",
   "id": "ab16e467",
   "metadata": {},
   "source": [
    "From above analysis, we can say that 'poisonous' mushrooms do not have Habitat Type as Waste according to our data."
   ]
  },
  {
   "cell_type": "markdown",
   "id": "e59c0599",
   "metadata": {},
   "source": [
    "### Data Preprocessing"
   ]
  },
  {
   "cell_type": "code",
   "execution_count": 58,
   "id": "6d8d9215",
   "metadata": {},
   "outputs": [],
   "source": [
    "# First we will map our target column to 0 and 1 values \n",
    "mushroom['class'] = mushroom['class'].map({'p':0,'e':1})"
   ]
  },
  {
   "cell_type": "code",
   "execution_count": 59,
   "id": "6a249855",
   "metadata": {},
   "outputs": [
    {
     "data": {
      "text/plain": [
       "1    4208\n",
       "0    3916\n",
       "Name: class, dtype: int64"
      ]
     },
     "execution_count": 59,
     "metadata": {},
     "output_type": "execute_result"
    }
   ],
   "source": [
    "mushroom['class'].value_counts()"
   ]
  },
  {
   "cell_type": "markdown",
   "id": "b4814cf2",
   "metadata": {},
   "source": [
    "Now we will split our data into independent features - X  and dependent target - y."
   ]
  },
  {
   "cell_type": "code",
   "execution_count": 60,
   "id": "d5fc3ca7",
   "metadata": {},
   "outputs": [],
   "source": [
    "X = mushroom.drop(['class'],axis=1) # independent features\n",
    "y = mushroom['class'] # target "
   ]
  },
  {
   "cell_type": "markdown",
   "id": "d8958538",
   "metadata": {},
   "source": [
    "Since our data is of categorical type we will use LabelEncoder to convert it into numerical."
   ]
  },
  {
   "cell_type": "code",
   "execution_count": 61,
   "id": "35511502",
   "metadata": {},
   "outputs": [],
   "source": [
    "# create an instance of label encoder \n",
    "le = LabelEncoder()"
   ]
  },
  {
   "cell_type": "code",
   "execution_count": 62,
   "id": "7268c308",
   "metadata": {},
   "outputs": [],
   "source": [
    "# using label encoder to transform independent features\n",
    "X = X.apply(le.fit_transform)"
   ]
  },
  {
   "cell_type": "code",
   "execution_count": 63,
   "id": "94dc4245",
   "metadata": {},
   "outputs": [
    {
     "data": {
      "text/html": [
       "<div>\n",
       "<style scoped>\n",
       "    .dataframe tbody tr th:only-of-type {\n",
       "        vertical-align: middle;\n",
       "    }\n",
       "\n",
       "    .dataframe tbody tr th {\n",
       "        vertical-align: top;\n",
       "    }\n",
       "\n",
       "    .dataframe thead th {\n",
       "        text-align: right;\n",
       "    }\n",
       "</style>\n",
       "<table border=\"1\" class=\"dataframe\">\n",
       "  <thead>\n",
       "    <tr style=\"text-align: right;\">\n",
       "      <th></th>\n",
       "      <th>cap-shape</th>\n",
       "      <th>cap-surface</th>\n",
       "      <th>cap-color</th>\n",
       "      <th>bruises</th>\n",
       "      <th>odor</th>\n",
       "      <th>gill-attachment</th>\n",
       "      <th>gill-spacing</th>\n",
       "      <th>gill-size</th>\n",
       "      <th>gill-color</th>\n",
       "      <th>stalk-shape</th>\n",
       "      <th>stalk-root</th>\n",
       "      <th>stalk-surface-above-ring</th>\n",
       "      <th>stalk-surface-below-ring</th>\n",
       "      <th>stalk-color-above-ring</th>\n",
       "      <th>stalk-color-below-ring</th>\n",
       "      <th>veil-color</th>\n",
       "      <th>ring-number</th>\n",
       "      <th>ring-type</th>\n",
       "      <th>spore-print-color</th>\n",
       "      <th>population</th>\n",
       "      <th>habitat</th>\n",
       "    </tr>\n",
       "  </thead>\n",
       "  <tbody>\n",
       "    <tr>\n",
       "      <th>0</th>\n",
       "      <td>5</td>\n",
       "      <td>2</td>\n",
       "      <td>4</td>\n",
       "      <td>1</td>\n",
       "      <td>6</td>\n",
       "      <td>1</td>\n",
       "      <td>0</td>\n",
       "      <td>1</td>\n",
       "      <td>4</td>\n",
       "      <td>0</td>\n",
       "      <td>2</td>\n",
       "      <td>2</td>\n",
       "      <td>2</td>\n",
       "      <td>7</td>\n",
       "      <td>7</td>\n",
       "      <td>2</td>\n",
       "      <td>1</td>\n",
       "      <td>4</td>\n",
       "      <td>2</td>\n",
       "      <td>3</td>\n",
       "      <td>5</td>\n",
       "    </tr>\n",
       "    <tr>\n",
       "      <th>1</th>\n",
       "      <td>5</td>\n",
       "      <td>2</td>\n",
       "      <td>9</td>\n",
       "      <td>1</td>\n",
       "      <td>0</td>\n",
       "      <td>1</td>\n",
       "      <td>0</td>\n",
       "      <td>0</td>\n",
       "      <td>4</td>\n",
       "      <td>0</td>\n",
       "      <td>1</td>\n",
       "      <td>2</td>\n",
       "      <td>2</td>\n",
       "      <td>7</td>\n",
       "      <td>7</td>\n",
       "      <td>2</td>\n",
       "      <td>1</td>\n",
       "      <td>4</td>\n",
       "      <td>3</td>\n",
       "      <td>2</td>\n",
       "      <td>1</td>\n",
       "    </tr>\n",
       "    <tr>\n",
       "      <th>2</th>\n",
       "      <td>0</td>\n",
       "      <td>2</td>\n",
       "      <td>8</td>\n",
       "      <td>1</td>\n",
       "      <td>3</td>\n",
       "      <td>1</td>\n",
       "      <td>0</td>\n",
       "      <td>0</td>\n",
       "      <td>5</td>\n",
       "      <td>0</td>\n",
       "      <td>1</td>\n",
       "      <td>2</td>\n",
       "      <td>2</td>\n",
       "      <td>7</td>\n",
       "      <td>7</td>\n",
       "      <td>2</td>\n",
       "      <td>1</td>\n",
       "      <td>4</td>\n",
       "      <td>3</td>\n",
       "      <td>2</td>\n",
       "      <td>3</td>\n",
       "    </tr>\n",
       "    <tr>\n",
       "      <th>3</th>\n",
       "      <td>5</td>\n",
       "      <td>3</td>\n",
       "      <td>8</td>\n",
       "      <td>1</td>\n",
       "      <td>6</td>\n",
       "      <td>1</td>\n",
       "      <td>0</td>\n",
       "      <td>1</td>\n",
       "      <td>5</td>\n",
       "      <td>0</td>\n",
       "      <td>2</td>\n",
       "      <td>2</td>\n",
       "      <td>2</td>\n",
       "      <td>7</td>\n",
       "      <td>7</td>\n",
       "      <td>2</td>\n",
       "      <td>1</td>\n",
       "      <td>4</td>\n",
       "      <td>2</td>\n",
       "      <td>3</td>\n",
       "      <td>5</td>\n",
       "    </tr>\n",
       "    <tr>\n",
       "      <th>4</th>\n",
       "      <td>5</td>\n",
       "      <td>2</td>\n",
       "      <td>3</td>\n",
       "      <td>0</td>\n",
       "      <td>5</td>\n",
       "      <td>1</td>\n",
       "      <td>1</td>\n",
       "      <td>0</td>\n",
       "      <td>4</td>\n",
       "      <td>1</td>\n",
       "      <td>2</td>\n",
       "      <td>2</td>\n",
       "      <td>2</td>\n",
       "      <td>7</td>\n",
       "      <td>7</td>\n",
       "      <td>2</td>\n",
       "      <td>1</td>\n",
       "      <td>0</td>\n",
       "      <td>3</td>\n",
       "      <td>0</td>\n",
       "      <td>1</td>\n",
       "    </tr>\n",
       "    <tr>\n",
       "      <th>...</th>\n",
       "      <td>...</td>\n",
       "      <td>...</td>\n",
       "      <td>...</td>\n",
       "      <td>...</td>\n",
       "      <td>...</td>\n",
       "      <td>...</td>\n",
       "      <td>...</td>\n",
       "      <td>...</td>\n",
       "      <td>...</td>\n",
       "      <td>...</td>\n",
       "      <td>...</td>\n",
       "      <td>...</td>\n",
       "      <td>...</td>\n",
       "      <td>...</td>\n",
       "      <td>...</td>\n",
       "      <td>...</td>\n",
       "      <td>...</td>\n",
       "      <td>...</td>\n",
       "      <td>...</td>\n",
       "      <td>...</td>\n",
       "      <td>...</td>\n",
       "    </tr>\n",
       "    <tr>\n",
       "      <th>8119</th>\n",
       "      <td>3</td>\n",
       "      <td>2</td>\n",
       "      <td>4</td>\n",
       "      <td>0</td>\n",
       "      <td>5</td>\n",
       "      <td>0</td>\n",
       "      <td>0</td>\n",
       "      <td>0</td>\n",
       "      <td>11</td>\n",
       "      <td>0</td>\n",
       "      <td>0</td>\n",
       "      <td>2</td>\n",
       "      <td>2</td>\n",
       "      <td>5</td>\n",
       "      <td>5</td>\n",
       "      <td>1</td>\n",
       "      <td>1</td>\n",
       "      <td>4</td>\n",
       "      <td>0</td>\n",
       "      <td>1</td>\n",
       "      <td>2</td>\n",
       "    </tr>\n",
       "    <tr>\n",
       "      <th>8120</th>\n",
       "      <td>5</td>\n",
       "      <td>2</td>\n",
       "      <td>4</td>\n",
       "      <td>0</td>\n",
       "      <td>5</td>\n",
       "      <td>0</td>\n",
       "      <td>0</td>\n",
       "      <td>0</td>\n",
       "      <td>11</td>\n",
       "      <td>0</td>\n",
       "      <td>0</td>\n",
       "      <td>2</td>\n",
       "      <td>2</td>\n",
       "      <td>5</td>\n",
       "      <td>5</td>\n",
       "      <td>0</td>\n",
       "      <td>1</td>\n",
       "      <td>4</td>\n",
       "      <td>0</td>\n",
       "      <td>4</td>\n",
       "      <td>2</td>\n",
       "    </tr>\n",
       "    <tr>\n",
       "      <th>8121</th>\n",
       "      <td>2</td>\n",
       "      <td>2</td>\n",
       "      <td>4</td>\n",
       "      <td>0</td>\n",
       "      <td>5</td>\n",
       "      <td>0</td>\n",
       "      <td>0</td>\n",
       "      <td>0</td>\n",
       "      <td>5</td>\n",
       "      <td>0</td>\n",
       "      <td>0</td>\n",
       "      <td>2</td>\n",
       "      <td>2</td>\n",
       "      <td>5</td>\n",
       "      <td>5</td>\n",
       "      <td>1</td>\n",
       "      <td>1</td>\n",
       "      <td>4</td>\n",
       "      <td>0</td>\n",
       "      <td>1</td>\n",
       "      <td>2</td>\n",
       "    </tr>\n",
       "    <tr>\n",
       "      <th>8122</th>\n",
       "      <td>3</td>\n",
       "      <td>3</td>\n",
       "      <td>4</td>\n",
       "      <td>0</td>\n",
       "      <td>8</td>\n",
       "      <td>1</td>\n",
       "      <td>0</td>\n",
       "      <td>1</td>\n",
       "      <td>0</td>\n",
       "      <td>1</td>\n",
       "      <td>0</td>\n",
       "      <td>2</td>\n",
       "      <td>1</td>\n",
       "      <td>7</td>\n",
       "      <td>7</td>\n",
       "      <td>2</td>\n",
       "      <td>1</td>\n",
       "      <td>0</td>\n",
       "      <td>7</td>\n",
       "      <td>4</td>\n",
       "      <td>2</td>\n",
       "    </tr>\n",
       "    <tr>\n",
       "      <th>8123</th>\n",
       "      <td>5</td>\n",
       "      <td>2</td>\n",
       "      <td>4</td>\n",
       "      <td>0</td>\n",
       "      <td>5</td>\n",
       "      <td>0</td>\n",
       "      <td>0</td>\n",
       "      <td>0</td>\n",
       "      <td>11</td>\n",
       "      <td>0</td>\n",
       "      <td>0</td>\n",
       "      <td>2</td>\n",
       "      <td>2</td>\n",
       "      <td>5</td>\n",
       "      <td>5</td>\n",
       "      <td>1</td>\n",
       "      <td>1</td>\n",
       "      <td>4</td>\n",
       "      <td>4</td>\n",
       "      <td>1</td>\n",
       "      <td>2</td>\n",
       "    </tr>\n",
       "  </tbody>\n",
       "</table>\n",
       "<p>8124 rows × 21 columns</p>\n",
       "</div>"
      ],
      "text/plain": [
       "      cap-shape  cap-surface  cap-color  bruises  odor  gill-attachment  gill-spacing  gill-size  gill-color  stalk-shape  stalk-root  stalk-surface-above-ring  stalk-surface-below-ring  stalk-color-above-ring  stalk-color-below-ring  veil-color  ring-number  ring-type  spore-print-color  population  habitat\n",
       "0             5            2          4        1     6                1             0          1           4            0           2                         2                         2                       7                       7           2            1          4                  2           3        5\n",
       "1             5            2          9        1     0                1             0          0           4            0           1                         2                         2                       7                       7           2            1          4                  3           2        1\n",
       "2             0            2          8        1     3                1             0          0           5            0           1                         2                         2                       7                       7           2            1          4                  3           2        3\n",
       "3             5            3          8        1     6                1             0          1           5            0           2                         2                         2                       7                       7           2            1          4                  2           3        5\n",
       "4             5            2          3        0     5                1             1          0           4            1           2                         2                         2                       7                       7           2            1          0                  3           0        1\n",
       "...         ...          ...        ...      ...   ...              ...           ...        ...         ...          ...         ...                       ...                       ...                     ...                     ...         ...          ...        ...                ...         ...      ...\n",
       "8119          3            2          4        0     5                0             0          0          11            0           0                         2                         2                       5                       5           1            1          4                  0           1        2\n",
       "8120          5            2          4        0     5                0             0          0          11            0           0                         2                         2                       5                       5           0            1          4                  0           4        2\n",
       "8121          2            2          4        0     5                0             0          0           5            0           0                         2                         2                       5                       5           1            1          4                  0           1        2\n",
       "8122          3            3          4        0     8                1             0          1           0            1           0                         2                         1                       7                       7           2            1          0                  7           4        2\n",
       "8123          5            2          4        0     5                0             0          0          11            0           0                         2                         2                       5                       5           1            1          4                  4           1        2\n",
       "\n",
       "[8124 rows x 21 columns]"
      ]
     },
     "execution_count": 63,
     "metadata": {},
     "output_type": "execute_result"
    }
   ],
   "source": [
    "# Let's take a look at our data\n",
    "X"
   ]
  },
  {
   "cell_type": "markdown",
   "id": "3cd8d252",
   "metadata": {},
   "source": [
    "Now we will split our data into train and test set"
   ]
  },
  {
   "cell_type": "code",
   "execution_count": 64,
   "id": "20a70bb3",
   "metadata": {},
   "outputs": [],
   "source": [
    "X_train, X_test, y_train, y_test = train_test_split(X, y, test_size=0.33, random_state=42)"
   ]
  },
  {
   "cell_type": "markdown",
   "id": "db08928d",
   "metadata": {},
   "source": [
    "Now we will use feature selection to find out best features to use for our model. For this purpose we will use SelectKBest method with score_func as chi2"
   ]
  },
  {
   "cell_type": "code",
   "execution_count": 65,
   "id": "62ca4f5c",
   "metadata": {},
   "outputs": [],
   "source": [
    "fs = SelectKBest(score_func=chi2, k ='all')"
   ]
  },
  {
   "cell_type": "code",
   "execution_count": 66,
   "id": "20f7720b",
   "metadata": {},
   "outputs": [
    {
     "data": {
      "text/html": [
       "<style>#sk-container-id-1 {color: black;background-color: white;}#sk-container-id-1 pre{padding: 0;}#sk-container-id-1 div.sk-toggleable {background-color: white;}#sk-container-id-1 label.sk-toggleable__label {cursor: pointer;display: block;width: 100%;margin-bottom: 0;padding: 0.3em;box-sizing: border-box;text-align: center;}#sk-container-id-1 label.sk-toggleable__label-arrow:before {content: \"▸\";float: left;margin-right: 0.25em;color: #696969;}#sk-container-id-1 label.sk-toggleable__label-arrow:hover:before {color: black;}#sk-container-id-1 div.sk-estimator:hover label.sk-toggleable__label-arrow:before {color: black;}#sk-container-id-1 div.sk-toggleable__content {max-height: 0;max-width: 0;overflow: hidden;text-align: left;background-color: #f0f8ff;}#sk-container-id-1 div.sk-toggleable__content pre {margin: 0.2em;color: black;border-radius: 0.25em;background-color: #f0f8ff;}#sk-container-id-1 input.sk-toggleable__control:checked~div.sk-toggleable__content {max-height: 200px;max-width: 100%;overflow: auto;}#sk-container-id-1 input.sk-toggleable__control:checked~label.sk-toggleable__label-arrow:before {content: \"▾\";}#sk-container-id-1 div.sk-estimator input.sk-toggleable__control:checked~label.sk-toggleable__label {background-color: #d4ebff;}#sk-container-id-1 div.sk-label input.sk-toggleable__control:checked~label.sk-toggleable__label {background-color: #d4ebff;}#sk-container-id-1 input.sk-hidden--visually {border: 0;clip: rect(1px 1px 1px 1px);clip: rect(1px, 1px, 1px, 1px);height: 1px;margin: -1px;overflow: hidden;padding: 0;position: absolute;width: 1px;}#sk-container-id-1 div.sk-estimator {font-family: monospace;background-color: #f0f8ff;border: 1px dotted black;border-radius: 0.25em;box-sizing: border-box;margin-bottom: 0.5em;}#sk-container-id-1 div.sk-estimator:hover {background-color: #d4ebff;}#sk-container-id-1 div.sk-parallel-item::after {content: \"\";width: 100%;border-bottom: 1px solid gray;flex-grow: 1;}#sk-container-id-1 div.sk-label:hover label.sk-toggleable__label {background-color: #d4ebff;}#sk-container-id-1 div.sk-serial::before {content: \"\";position: absolute;border-left: 1px solid gray;box-sizing: border-box;top: 0;bottom: 0;left: 50%;z-index: 0;}#sk-container-id-1 div.sk-serial {display: flex;flex-direction: column;align-items: center;background-color: white;padding-right: 0.2em;padding-left: 0.2em;position: relative;}#sk-container-id-1 div.sk-item {position: relative;z-index: 1;}#sk-container-id-1 div.sk-parallel {display: flex;align-items: stretch;justify-content: center;background-color: white;position: relative;}#sk-container-id-1 div.sk-item::before, #sk-container-id-1 div.sk-parallel-item::before {content: \"\";position: absolute;border-left: 1px solid gray;box-sizing: border-box;top: 0;bottom: 0;left: 50%;z-index: -1;}#sk-container-id-1 div.sk-parallel-item {display: flex;flex-direction: column;z-index: 1;position: relative;background-color: white;}#sk-container-id-1 div.sk-parallel-item:first-child::after {align-self: flex-end;width: 50%;}#sk-container-id-1 div.sk-parallel-item:last-child::after {align-self: flex-start;width: 50%;}#sk-container-id-1 div.sk-parallel-item:only-child::after {width: 0;}#sk-container-id-1 div.sk-dashed-wrapped {border: 1px dashed gray;margin: 0 0.4em 0.5em 0.4em;box-sizing: border-box;padding-bottom: 0.4em;background-color: white;}#sk-container-id-1 div.sk-label label {font-family: monospace;font-weight: bold;display: inline-block;line-height: 1.2em;}#sk-container-id-1 div.sk-label-container {text-align: center;}#sk-container-id-1 div.sk-container {/* jupyter's `normalize.less` sets `[hidden] { display: none; }` but bootstrap.min.css set `[hidden] { display: none !important; }` so we also need the `!important` here to be able to override the default hidden behavior on the sphinx rendered scikit-learn.org. See: https://github.com/scikit-learn/scikit-learn/issues/21755 */display: inline-block !important;position: relative;}#sk-container-id-1 div.sk-text-repr-fallback {display: none;}</style><div id=\"sk-container-id-1\" class=\"sk-top-container\"><div class=\"sk-text-repr-fallback\"><pre>SelectKBest(k=&#x27;all&#x27;, score_func=&lt;function chi2 at 0x0000021F724D0160&gt;)</pre><b>In a Jupyter environment, please rerun this cell to show the HTML representation or trust the notebook. <br />On GitHub, the HTML representation is unable to render, please try loading this page with nbviewer.org.</b></div><div class=\"sk-container\" hidden><div class=\"sk-item\"><div class=\"sk-estimator sk-toggleable\"><input class=\"sk-toggleable__control sk-hidden--visually\" id=\"sk-estimator-id-1\" type=\"checkbox\" checked><label for=\"sk-estimator-id-1\" class=\"sk-toggleable__label sk-toggleable__label-arrow\">SelectKBest</label><div class=\"sk-toggleable__content\"><pre>SelectKBest(k=&#x27;all&#x27;, score_func=&lt;function chi2 at 0x0000021F724D0160&gt;)</pre></div></div></div></div></div>"
      ],
      "text/plain": [
       "SelectKBest(k='all', score_func=<function chi2 at 0x0000021F724D0160>)"
      ]
     },
     "execution_count": 66,
     "metadata": {},
     "output_type": "execute_result"
    }
   ],
   "source": [
    "# fitting train and test data\n",
    "fs.fit(X_train, y_train)"
   ]
  },
  {
   "cell_type": "code",
   "execution_count": 67,
   "id": "abbba63a",
   "metadata": {
    "scrolled": false
   },
   "outputs": [
    {
     "name": "stdout",
     "output_type": "stream",
     "text": [
      "Feature 0: 8.818258\n",
      "Feature 1: 147.222728\n",
      "Feature 2: 5.616870\n",
      "Feature 3: 825.153563\n",
      "Feature 4: 57.656504\n",
      "Feature 5: 2.423365\n",
      "Feature 6: 536.650762\n",
      "Feature 7: 1124.382043\n",
      "Feature 8: 4100.311755\n",
      "Feature 9: 24.934554\n",
      "Feature 10: 896.695835\n",
      "Feature 11: 149.738624\n",
      "Feature 12: 143.675387\n",
      "Feature 13: 73.765103\n",
      "Feature 14: 70.684097\n",
      "Feature 15: 3.793498\n",
      "Feature 16: 17.619193\n",
      "Feature 17: 1322.017823\n",
      "Feature 18: 265.304896\n",
      "Feature 19: 211.531223\n",
      "Feature 20: 501.493459\n"
     ]
    },
    {
     "data": {
      "image/png": "[encoded data removed]",
      "text/plain": [
       "<Figure size 1200x800 with 1 Axes>"
      ]
     },
     "metadata": {},
     "output_type": "display_data"
    }
   ],
   "source": [
    "# what are scores for the features\n",
    "for i in range(len(fs.scores_)):\n",
    "    print('Feature %d: %f' % (i, fs.scores_[i]))\n",
    "# plot the scores\n",
    "plt.figure(figsize=(12, 8))\n",
    "plt.barh([i for i in range(len(fs.scores_))], fs.scores_)\n",
    "plt.ylabel('Features')\n",
    "plt.xlabel('K Scores')\n",
    "plt.yticks(ticks=range(0,21), labels=['cap-shape', 'cap-surface', 'cap-color', 'bruises', 'odor', 'gill-attachment', 'gill-spacing', 'gill-size', \n",
    "            'gill-color', 'stalk-shape', 'stalk-root', 'stalk-surface-above-ring', 'stalk-surface-below-ring', \n",
    "            'stalk-color-above-ring', 'stalk-color-below-ring', 'veil-color', 'ring-number', 'ring-type', 'spore-print-color', \n",
    "            'population', 'habitat'])\n",
    "plt.title('Feature Selection using SelectKBest Method')\n",
    "plt.show()"
   ]
  },
  {
   "cell_type": "code",
   "execution_count": 68,
   "id": "3b79463a",
   "metadata": {},
   "outputs": [
    {
     "data": {
      "text/plain": [
       "Index(['cap-shape', 'cap-surface', 'cap-color', 'bruises', 'odor', 'gill-attachment', 'gill-spacing', 'gill-size', 'gill-color', 'stalk-shape', 'stalk-root', 'stalk-surface-above-ring', 'stalk-surface-below-ring', 'stalk-color-above-ring', 'stalk-color-below-ring', 'veil-color', 'ring-number', 'ring-type', 'spore-print-color', 'population', 'habitat'], dtype='object')"
      ]
     },
     "execution_count": 68,
     "metadata": {},
     "output_type": "execute_result"
    }
   ],
   "source": [
    "X_train.columns"
   ]
  },
  {
   "cell_type": "markdown",
   "id": "343c8ec3",
   "metadata": {},
   "source": [
    "After carefully analyzing above figure, we can now drop columns which are not necessary for our calculation."
   ]
  },
  {
   "cell_type": "code",
   "execution_count": 69,
   "id": "b4abdc93",
   "metadata": {},
   "outputs": [],
   "source": [
    "X_train_new = X_train.drop(['cap-shape', 'cap-color', 'odor', 'gill-attachment', 'stalk-shape', \n",
    "                           'stalk-color-above-ring', 'stalk-color-below-ring', 'veil-color',\n",
    "                           'ring-number'], axis=1)"
   ]
  },
  {
   "cell_type": "code",
   "execution_count": 70,
   "id": "c9c81302",
   "metadata": {},
   "outputs": [
    {
     "data": {
      "text/plain": [
       "(5443, 12)"
      ]
     },
     "execution_count": 70,
     "metadata": {},
     "output_type": "execute_result"
    }
   ],
   "source": [
    "# check dimensions of new train data\n",
    "X_train_new.shape"
   ]
  },
  {
   "cell_type": "code",
   "execution_count": 71,
   "id": "dd4204c8",
   "metadata": {},
   "outputs": [
    {
     "data": {
      "text/html": [
       "<div>\n",
       "<style scoped>\n",
       "    .dataframe tbody tr th:only-of-type {\n",
       "        vertical-align: middle;\n",
       "    }\n",
       "\n",
       "    .dataframe tbody tr th {\n",
       "        vertical-align: top;\n",
       "    }\n",
       "\n",
       "    .dataframe thead th {\n",
       "        text-align: right;\n",
       "    }\n",
       "</style>\n",
       "<table border=\"1\" class=\"dataframe\">\n",
       "  <thead>\n",
       "    <tr style=\"text-align: right;\">\n",
       "      <th></th>\n",
       "      <th>cap-surface</th>\n",
       "      <th>bruises</th>\n",
       "      <th>gill-spacing</th>\n",
       "      <th>gill-size</th>\n",
       "      <th>gill-color</th>\n",
       "      <th>stalk-root</th>\n",
       "      <th>stalk-surface-above-ring</th>\n",
       "      <th>stalk-surface-below-ring</th>\n",
       "      <th>ring-type</th>\n",
       "      <th>spore-print-color</th>\n",
       "      <th>population</th>\n",
       "      <th>habitat</th>\n",
       "    </tr>\n",
       "  </thead>\n",
       "  <tbody>\n",
       "    <tr>\n",
       "      <th>3244</th>\n",
       "      <td>0</td>\n",
       "      <td>1</td>\n",
       "      <td>0</td>\n",
       "      <td>0</td>\n",
       "      <td>5</td>\n",
       "      <td>0</td>\n",
       "      <td>2</td>\n",
       "      <td>2</td>\n",
       "      <td>4</td>\n",
       "      <td>2</td>\n",
       "      <td>5</td>\n",
       "      <td>0</td>\n",
       "    </tr>\n",
       "    <tr>\n",
       "      <th>3739</th>\n",
       "      <td>0</td>\n",
       "      <td>0</td>\n",
       "      <td>1</td>\n",
       "      <td>1</td>\n",
       "      <td>7</td>\n",
       "      <td>0</td>\n",
       "      <td>2</td>\n",
       "      <td>2</td>\n",
       "      <td>4</td>\n",
       "      <td>2</td>\n",
       "      <td>4</td>\n",
       "      <td>0</td>\n",
       "    </tr>\n",
       "    <tr>\n",
       "      <th>2154</th>\n",
       "      <td>0</td>\n",
       "      <td>1</td>\n",
       "      <td>0</td>\n",
       "      <td>0</td>\n",
       "      <td>5</td>\n",
       "      <td>0</td>\n",
       "      <td>2</td>\n",
       "      <td>2</td>\n",
       "      <td>4</td>\n",
       "      <td>3</td>\n",
       "      <td>5</td>\n",
       "      <td>0</td>\n",
       "    </tr>\n",
       "    <tr>\n",
       "      <th>1344</th>\n",
       "      <td>2</td>\n",
       "      <td>0</td>\n",
       "      <td>1</td>\n",
       "      <td>0</td>\n",
       "      <td>5</td>\n",
       "      <td>2</td>\n",
       "      <td>2</td>\n",
       "      <td>2</td>\n",
       "      <td>0</td>\n",
       "      <td>3</td>\n",
       "      <td>3</td>\n",
       "      <td>1</td>\n",
       "    </tr>\n",
       "    <tr>\n",
       "      <th>7852</th>\n",
       "      <td>3</td>\n",
       "      <td>0</td>\n",
       "      <td>0</td>\n",
       "      <td>1</td>\n",
       "      <td>0</td>\n",
       "      <td>0</td>\n",
       "      <td>2</td>\n",
       "      <td>1</td>\n",
       "      <td>0</td>\n",
       "      <td>7</td>\n",
       "      <td>4</td>\n",
       "      <td>2</td>\n",
       "    </tr>\n",
       "  </tbody>\n",
       "</table>\n",
       "</div>"
      ],
      "text/plain": [
       "      cap-surface  bruises  gill-spacing  gill-size  gill-color  stalk-root  stalk-surface-above-ring  stalk-surface-below-ring  ring-type  spore-print-color  population  habitat\n",
       "3244            0        1             0          0           5           0                         2                         2          4                  2           5        0\n",
       "3739            0        0             1          1           7           0                         2                         2          4                  2           4        0\n",
       "2154            0        1             0          0           5           0                         2                         2          4                  3           5        0\n",
       "1344            2        0             1          0           5           2                         2                         2          0                  3           3        1\n",
       "7852            3        0             0          1           0           0                         2                         1          0                  7           4        2"
      ]
     },
     "execution_count": 71,
     "metadata": {},
     "output_type": "execute_result"
    }
   ],
   "source": [
    "# show first 5 records\n",
    "X_train_new.head()"
   ]
  },
  {
   "cell_type": "code",
   "execution_count": 72,
   "id": "fb01d775",
   "metadata": {},
   "outputs": [],
   "source": [
    "# drop unnecessary columns from test data also\n",
    "X_test_new = X_test.drop(['cap-shape', 'cap-color', 'odor', 'gill-attachment', 'stalk-shape', \n",
    "                           'stalk-color-above-ring', 'stalk-color-below-ring', 'veil-color',\n",
    "                           'ring-number'], axis=1)"
   ]
  },
  {
   "cell_type": "code",
   "execution_count": 73,
   "id": "0de48c37",
   "metadata": {},
   "outputs": [
    {
     "data": {
      "text/plain": [
       "(2681, 12)"
      ]
     },
     "execution_count": 73,
     "metadata": {},
     "output_type": "execute_result"
    }
   ],
   "source": [
    "# check dimensions of new test data\n",
    "X_test_new.shape"
   ]
  },
  {
   "cell_type": "code",
   "execution_count": 74,
   "id": "a3854c5a",
   "metadata": {},
   "outputs": [
    {
     "data": {
      "text/html": [
       "<div>\n",
       "<style scoped>\n",
       "    .dataframe tbody tr th:only-of-type {\n",
       "        vertical-align: middle;\n",
       "    }\n",
       "\n",
       "    .dataframe tbody tr th {\n",
       "        vertical-align: top;\n",
       "    }\n",
       "\n",
       "    .dataframe thead th {\n",
       "        text-align: right;\n",
       "    }\n",
       "</style>\n",
       "<table border=\"1\" class=\"dataframe\">\n",
       "  <thead>\n",
       "    <tr style=\"text-align: right;\">\n",
       "      <th></th>\n",
       "      <th>cap-surface</th>\n",
       "      <th>bruises</th>\n",
       "      <th>gill-spacing</th>\n",
       "      <th>gill-size</th>\n",
       "      <th>gill-color</th>\n",
       "      <th>stalk-root</th>\n",
       "      <th>stalk-surface-above-ring</th>\n",
       "      <th>stalk-surface-below-ring</th>\n",
       "      <th>ring-type</th>\n",
       "      <th>spore-print-color</th>\n",
       "      <th>population</th>\n",
       "      <th>habitat</th>\n",
       "    </tr>\n",
       "  </thead>\n",
       "  <tbody>\n",
       "    <tr>\n",
       "      <th>1971</th>\n",
       "      <td>0</td>\n",
       "      <td>0</td>\n",
       "      <td>1</td>\n",
       "      <td>0</td>\n",
       "      <td>3</td>\n",
       "      <td>2</td>\n",
       "      <td>2</td>\n",
       "      <td>0</td>\n",
       "      <td>0</td>\n",
       "      <td>3</td>\n",
       "      <td>3</td>\n",
       "      <td>1</td>\n",
       "    </tr>\n",
       "    <tr>\n",
       "      <th>6654</th>\n",
       "      <td>2</td>\n",
       "      <td>0</td>\n",
       "      <td>0</td>\n",
       "      <td>1</td>\n",
       "      <td>0</td>\n",
       "      <td>0</td>\n",
       "      <td>2</td>\n",
       "      <td>2</td>\n",
       "      <td>0</td>\n",
       "      <td>7</td>\n",
       "      <td>4</td>\n",
       "      <td>2</td>\n",
       "    </tr>\n",
       "    <tr>\n",
       "      <th>5606</th>\n",
       "      <td>3</td>\n",
       "      <td>0</td>\n",
       "      <td>0</td>\n",
       "      <td>1</td>\n",
       "      <td>0</td>\n",
       "      <td>0</td>\n",
       "      <td>1</td>\n",
       "      <td>2</td>\n",
       "      <td>0</td>\n",
       "      <td>7</td>\n",
       "      <td>4</td>\n",
       "      <td>2</td>\n",
       "    </tr>\n",
       "    <tr>\n",
       "      <th>3332</th>\n",
       "      <td>3</td>\n",
       "      <td>1</td>\n",
       "      <td>0</td>\n",
       "      <td>0</td>\n",
       "      <td>5</td>\n",
       "      <td>0</td>\n",
       "      <td>2</td>\n",
       "      <td>2</td>\n",
       "      <td>4</td>\n",
       "      <td>3</td>\n",
       "      <td>5</td>\n",
       "      <td>0</td>\n",
       "    </tr>\n",
       "    <tr>\n",
       "      <th>6988</th>\n",
       "      <td>2</td>\n",
       "      <td>0</td>\n",
       "      <td>0</td>\n",
       "      <td>1</td>\n",
       "      <td>0</td>\n",
       "      <td>0</td>\n",
       "      <td>2</td>\n",
       "      <td>2</td>\n",
       "      <td>0</td>\n",
       "      <td>7</td>\n",
       "      <td>4</td>\n",
       "      <td>2</td>\n",
       "    </tr>\n",
       "  </tbody>\n",
       "</table>\n",
       "</div>"
      ],
      "text/plain": [
       "      cap-surface  bruises  gill-spacing  gill-size  gill-color  stalk-root  stalk-surface-above-ring  stalk-surface-below-ring  ring-type  spore-print-color  population  habitat\n",
       "1971            0        0             1          0           3           2                         2                         0          0                  3           3        1\n",
       "6654            2        0             0          1           0           0                         2                         2          0                  7           4        2\n",
       "5606            3        0             0          1           0           0                         1                         2          0                  7           4        2\n",
       "3332            3        1             0          0           5           0                         2                         2          4                  3           5        0\n",
       "6988            2        0             0          1           0           0                         2                         2          0                  7           4        2"
      ]
     },
     "execution_count": 74,
     "metadata": {},
     "output_type": "execute_result"
    }
   ],
   "source": [
    "# show first 5 records\n",
    "X_test_new.head()"
   ]
  },
  {
   "cell_type": "markdown",
   "id": "7de4e6e9",
   "metadata": {},
   "source": [
    "Now we will scale our data for model training using Standard Scaler"
   ]
  },
  {
   "cell_type": "code",
   "execution_count": 75,
   "id": "8afdceab",
   "metadata": {},
   "outputs": [],
   "source": [
    "# create an instance of Standard Scaler\n",
    "SS = StandardScaler()"
   ]
  },
  {
   "cell_type": "code",
   "execution_count": 76,
   "id": "30cd5f8d",
   "metadata": {},
   "outputs": [],
   "source": [
    "# applying transformation on train data\n",
    "X_train_scaled = pd.DataFrame(SS.fit_transform(X_train_new),columns=X_train_new.columns)"
   ]
  },
  {
   "cell_type": "code",
   "execution_count": 77,
   "id": "ae0c0e4b",
   "metadata": {},
   "outputs": [
    {
     "data": {
      "text/html": [
       "<div>\n",
       "<style scoped>\n",
       "    .dataframe tbody tr th:only-of-type {\n",
       "        vertical-align: middle;\n",
       "    }\n",
       "\n",
       "    .dataframe tbody tr th {\n",
       "        vertical-align: top;\n",
       "    }\n",
       "\n",
       "    .dataframe thead th {\n",
       "        text-align: right;\n",
       "    }\n",
       "</style>\n",
       "<table border=\"1\" class=\"dataframe\">\n",
       "  <thead>\n",
       "    <tr style=\"text-align: right;\">\n",
       "      <th></th>\n",
       "      <th>cap-surface</th>\n",
       "      <th>bruises</th>\n",
       "      <th>gill-spacing</th>\n",
       "      <th>gill-size</th>\n",
       "      <th>gill-color</th>\n",
       "      <th>stalk-root</th>\n",
       "      <th>stalk-surface-above-ring</th>\n",
       "      <th>stalk-surface-below-ring</th>\n",
       "      <th>ring-type</th>\n",
       "      <th>spore-print-color</th>\n",
       "      <th>population</th>\n",
       "      <th>habitat</th>\n",
       "    </tr>\n",
       "  </thead>\n",
       "  <tbody>\n",
       "    <tr>\n",
       "      <th>0</th>\n",
       "      <td>-1.480248</td>\n",
       "      <td>1.183626</td>\n",
       "      <td>-0.435875</td>\n",
       "      <td>-0.665583</td>\n",
       "      <td>0.052222</td>\n",
       "      <td>-0.504847</td>\n",
       "      <td>0.683206</td>\n",
       "      <td>0.588492</td>\n",
       "      <td>0.953185</td>\n",
       "      <td>-0.675786</td>\n",
       "      <td>1.073563</td>\n",
       "      <td>-0.874934</td>\n",
       "    </tr>\n",
       "    <tr>\n",
       "      <th>1</th>\n",
       "      <td>-1.480248</td>\n",
       "      <td>-0.844861</td>\n",
       "      <td>2.294237</td>\n",
       "      <td>1.502442</td>\n",
       "      <td>0.614531</td>\n",
       "      <td>-0.504847</td>\n",
       "      <td>0.683206</td>\n",
       "      <td>0.588492</td>\n",
       "      <td>0.953185</td>\n",
       "      <td>-0.675786</td>\n",
       "      <td>0.281237</td>\n",
       "      <td>-0.874934</td>\n",
       "    </tr>\n",
       "    <tr>\n",
       "      <th>2</th>\n",
       "      <td>-1.480248</td>\n",
       "      <td>1.183626</td>\n",
       "      <td>-0.435875</td>\n",
       "      <td>-0.665583</td>\n",
       "      <td>0.052222</td>\n",
       "      <td>-0.504847</td>\n",
       "      <td>0.683206</td>\n",
       "      <td>0.588492</td>\n",
       "      <td>0.953185</td>\n",
       "      <td>-0.255984</td>\n",
       "      <td>1.073563</td>\n",
       "      <td>-0.874934</td>\n",
       "    </tr>\n",
       "    <tr>\n",
       "      <th>3</th>\n",
       "      <td>0.144473</td>\n",
       "      <td>-0.844861</td>\n",
       "      <td>2.294237</td>\n",
       "      <td>-0.665583</td>\n",
       "      <td>0.052222</td>\n",
       "      <td>1.984178</td>\n",
       "      <td>0.683206</td>\n",
       "      <td>0.588492</td>\n",
       "      <td>-1.263515</td>\n",
       "      <td>-0.255984</td>\n",
       "      <td>-0.511089</td>\n",
       "      <td>-0.293034</td>\n",
       "    </tr>\n",
       "    <tr>\n",
       "      <th>4</th>\n",
       "      <td>0.956833</td>\n",
       "      <td>-0.844861</td>\n",
       "      <td>-0.435875</td>\n",
       "      <td>1.502442</td>\n",
       "      <td>-1.353548</td>\n",
       "      <td>-0.504847</td>\n",
       "      <td>0.683206</td>\n",
       "      <td>-0.896515</td>\n",
       "      <td>-1.263515</td>\n",
       "      <td>1.423223</td>\n",
       "      <td>0.281237</td>\n",
       "      <td>0.288865</td>\n",
       "    </tr>\n",
       "    <tr>\n",
       "      <th>...</th>\n",
       "      <td>...</td>\n",
       "      <td>...</td>\n",
       "      <td>...</td>\n",
       "      <td>...</td>\n",
       "      <td>...</td>\n",
       "      <td>...</td>\n",
       "      <td>...</td>\n",
       "      <td>...</td>\n",
       "      <td>...</td>\n",
       "      <td>...</td>\n",
       "      <td>...</td>\n",
       "      <td>...</td>\n",
       "    </tr>\n",
       "    <tr>\n",
       "      <th>5438</th>\n",
       "      <td>0.956833</td>\n",
       "      <td>-0.844861</td>\n",
       "      <td>-0.435875</td>\n",
       "      <td>1.502442</td>\n",
       "      <td>-1.353548</td>\n",
       "      <td>-0.504847</td>\n",
       "      <td>-0.925224</td>\n",
       "      <td>0.588492</td>\n",
       "      <td>-1.263515</td>\n",
       "      <td>1.423223</td>\n",
       "      <td>0.281237</td>\n",
       "      <td>1.452664</td>\n",
       "    </tr>\n",
       "    <tr>\n",
       "      <th>5439</th>\n",
       "      <td>0.956833</td>\n",
       "      <td>1.183626</td>\n",
       "      <td>-0.435875</td>\n",
       "      <td>-0.665583</td>\n",
       "      <td>1.457993</td>\n",
       "      <td>-0.504847</td>\n",
       "      <td>0.683206</td>\n",
       "      <td>0.588492</td>\n",
       "      <td>-1.263515</td>\n",
       "      <td>1.423223</td>\n",
       "      <td>-2.095740</td>\n",
       "      <td>2.616463</td>\n",
       "    </tr>\n",
       "    <tr>\n",
       "      <th>5440</th>\n",
       "      <td>0.956833</td>\n",
       "      <td>1.183626</td>\n",
       "      <td>-0.435875</td>\n",
       "      <td>-0.665583</td>\n",
       "      <td>1.457993</td>\n",
       "      <td>3.228691</td>\n",
       "      <td>0.683206</td>\n",
       "      <td>2.073499</td>\n",
       "      <td>0.953185</td>\n",
       "      <td>-0.255984</td>\n",
       "      <td>1.073563</td>\n",
       "      <td>1.452664</td>\n",
       "    </tr>\n",
       "    <tr>\n",
       "      <th>5441</th>\n",
       "      <td>0.144473</td>\n",
       "      <td>-0.844861</td>\n",
       "      <td>-0.435875</td>\n",
       "      <td>1.502442</td>\n",
       "      <td>-1.353548</td>\n",
       "      <td>-0.504847</td>\n",
       "      <td>0.683206</td>\n",
       "      <td>0.588492</td>\n",
       "      <td>-1.263515</td>\n",
       "      <td>1.423223</td>\n",
       "      <td>0.281237</td>\n",
       "      <td>1.452664</td>\n",
       "    </tr>\n",
       "    <tr>\n",
       "      <th>5442</th>\n",
       "      <td>-1.480248</td>\n",
       "      <td>-0.844861</td>\n",
       "      <td>2.294237</td>\n",
       "      <td>-0.665583</td>\n",
       "      <td>-0.791240</td>\n",
       "      <td>-0.504847</td>\n",
       "      <td>0.683206</td>\n",
       "      <td>-0.896515</td>\n",
       "      <td>0.953185</td>\n",
       "      <td>1.423223</td>\n",
       "      <td>-1.303414</td>\n",
       "      <td>-0.293034</td>\n",
       "    </tr>\n",
       "  </tbody>\n",
       "</table>\n",
       "<p>5443 rows × 12 columns</p>\n",
       "</div>"
      ],
      "text/plain": [
       "      cap-surface   bruises  gill-spacing  gill-size  gill-color  stalk-root  stalk-surface-above-ring  stalk-surface-below-ring  ring-type  spore-print-color  population   habitat\n",
       "0       -1.480248  1.183626     -0.435875  -0.665583    0.052222   -0.504847                  0.683206                  0.588492   0.953185          -0.675786    1.073563 -0.874934\n",
       "1       -1.480248 -0.844861      2.294237   1.502442    0.614531   -0.504847                  0.683206                  0.588492   0.953185          -0.675786    0.281237 -0.874934\n",
       "2       -1.480248  1.183626     -0.435875  -0.665583    0.052222   -0.504847                  0.683206                  0.588492   0.953185          -0.255984    1.073563 -0.874934\n",
       "3        0.144473 -0.844861      2.294237  -0.665583    0.052222    1.984178                  0.683206                  0.588492  -1.263515          -0.255984   -0.511089 -0.293034\n",
       "4        0.956833 -0.844861     -0.435875   1.502442   -1.353548   -0.504847                  0.683206                 -0.896515  -1.263515           1.423223    0.281237  0.288865\n",
       "...           ...       ...           ...        ...         ...         ...                       ...                       ...        ...                ...         ...       ...\n",
       "5438     0.956833 -0.844861     -0.435875   1.502442   -1.353548   -0.504847                 -0.925224                  0.588492  -1.263515           1.423223    0.281237  1.452664\n",
       "5439     0.956833  1.183626     -0.435875  -0.665583    1.457993   -0.504847                  0.683206                  0.588492  -1.263515           1.423223   -2.095740  2.616463\n",
       "5440     0.956833  1.183626     -0.435875  -0.665583    1.457993    3.228691                  0.683206                  2.073499   0.953185          -0.255984    1.073563  1.452664\n",
       "5441     0.144473 -0.844861     -0.435875   1.502442   -1.353548   -0.504847                  0.683206                  0.588492  -1.263515           1.423223    0.281237  1.452664\n",
       "5442    -1.480248 -0.844861      2.294237  -0.665583   -0.791240   -0.504847                  0.683206                 -0.896515   0.953185           1.423223   -1.303414 -0.293034\n",
       "\n",
       "[5443 rows x 12 columns]"
      ]
     },
     "execution_count": 77,
     "metadata": {},
     "output_type": "execute_result"
    }
   ],
   "source": [
    "# Let's see how our data looks\n",
    "X_train_scaled"
   ]
  },
  {
   "cell_type": "code",
   "execution_count": 78,
   "id": "0d1395f0",
   "metadata": {},
   "outputs": [],
   "source": [
    "# applying the same transformations on test data\n",
    "X_test_scaled = pd.DataFrame(SS.transform(X_test_new),columns=X_test_new.columns)"
   ]
  },
  {
   "cell_type": "code",
   "execution_count": 79,
   "id": "db60d7f1",
   "metadata": {},
   "outputs": [
    {
     "data": {
      "text/html": [
       "<div>\n",
       "<style scoped>\n",
       "    .dataframe tbody tr th:only-of-type {\n",
       "        vertical-align: middle;\n",
       "    }\n",
       "\n",
       "    .dataframe tbody tr th {\n",
       "        vertical-align: top;\n",
       "    }\n",
       "\n",
       "    .dataframe thead th {\n",
       "        text-align: right;\n",
       "    }\n",
       "</style>\n",
       "<table border=\"1\" class=\"dataframe\">\n",
       "  <thead>\n",
       "    <tr style=\"text-align: right;\">\n",
       "      <th></th>\n",
       "      <th>cap-surface</th>\n",
       "      <th>bruises</th>\n",
       "      <th>gill-spacing</th>\n",
       "      <th>gill-size</th>\n",
       "      <th>gill-color</th>\n",
       "      <th>stalk-root</th>\n",
       "      <th>stalk-surface-above-ring</th>\n",
       "      <th>stalk-surface-below-ring</th>\n",
       "      <th>ring-type</th>\n",
       "      <th>spore-print-color</th>\n",
       "      <th>population</th>\n",
       "      <th>habitat</th>\n",
       "    </tr>\n",
       "  </thead>\n",
       "  <tbody>\n",
       "    <tr>\n",
       "      <th>0</th>\n",
       "      <td>-1.480248</td>\n",
       "      <td>-0.844861</td>\n",
       "      <td>2.294237</td>\n",
       "      <td>-0.665583</td>\n",
       "      <td>-0.510086</td>\n",
       "      <td>1.984178</td>\n",
       "      <td>0.683206</td>\n",
       "      <td>-2.381523</td>\n",
       "      <td>-1.263515</td>\n",
       "      <td>-0.255984</td>\n",
       "      <td>-0.511089</td>\n",
       "      <td>-0.293034</td>\n",
       "    </tr>\n",
       "    <tr>\n",
       "      <th>1</th>\n",
       "      <td>0.144473</td>\n",
       "      <td>-0.844861</td>\n",
       "      <td>-0.435875</td>\n",
       "      <td>1.502442</td>\n",
       "      <td>-1.353548</td>\n",
       "      <td>-0.504847</td>\n",
       "      <td>0.683206</td>\n",
       "      <td>0.588492</td>\n",
       "      <td>-1.263515</td>\n",
       "      <td>1.423223</td>\n",
       "      <td>0.281237</td>\n",
       "      <td>0.288865</td>\n",
       "    </tr>\n",
       "    <tr>\n",
       "      <th>2</th>\n",
       "      <td>0.956833</td>\n",
       "      <td>-0.844861</td>\n",
       "      <td>-0.435875</td>\n",
       "      <td>1.502442</td>\n",
       "      <td>-1.353548</td>\n",
       "      <td>-0.504847</td>\n",
       "      <td>-0.925224</td>\n",
       "      <td>0.588492</td>\n",
       "      <td>-1.263515</td>\n",
       "      <td>1.423223</td>\n",
       "      <td>0.281237</td>\n",
       "      <td>0.288865</td>\n",
       "    </tr>\n",
       "    <tr>\n",
       "      <th>3</th>\n",
       "      <td>0.956833</td>\n",
       "      <td>1.183626</td>\n",
       "      <td>-0.435875</td>\n",
       "      <td>-0.665583</td>\n",
       "      <td>0.052222</td>\n",
       "      <td>-0.504847</td>\n",
       "      <td>0.683206</td>\n",
       "      <td>0.588492</td>\n",
       "      <td>0.953185</td>\n",
       "      <td>-0.255984</td>\n",
       "      <td>1.073563</td>\n",
       "      <td>-0.874934</td>\n",
       "    </tr>\n",
       "    <tr>\n",
       "      <th>4</th>\n",
       "      <td>0.144473</td>\n",
       "      <td>-0.844861</td>\n",
       "      <td>-0.435875</td>\n",
       "      <td>1.502442</td>\n",
       "      <td>-1.353548</td>\n",
       "      <td>-0.504847</td>\n",
       "      <td>0.683206</td>\n",
       "      <td>0.588492</td>\n",
       "      <td>-1.263515</td>\n",
       "      <td>1.423223</td>\n",
       "      <td>0.281237</td>\n",
       "      <td>0.288865</td>\n",
       "    </tr>\n",
       "    <tr>\n",
       "      <th>...</th>\n",
       "      <td>...</td>\n",
       "      <td>...</td>\n",
       "      <td>...</td>\n",
       "      <td>...</td>\n",
       "      <td>...</td>\n",
       "      <td>...</td>\n",
       "      <td>...</td>\n",
       "      <td>...</td>\n",
       "      <td>...</td>\n",
       "      <td>...</td>\n",
       "      <td>...</td>\n",
       "      <td>...</td>\n",
       "    </tr>\n",
       "    <tr>\n",
       "      <th>2676</th>\n",
       "      <td>0.144473</td>\n",
       "      <td>-0.844861</td>\n",
       "      <td>-0.435875</td>\n",
       "      <td>1.502442</td>\n",
       "      <td>-1.353548</td>\n",
       "      <td>-0.504847</td>\n",
       "      <td>0.683206</td>\n",
       "      <td>-0.896515</td>\n",
       "      <td>-1.263515</td>\n",
       "      <td>1.423223</td>\n",
       "      <td>0.281237</td>\n",
       "      <td>0.288865</td>\n",
       "    </tr>\n",
       "    <tr>\n",
       "      <th>2677</th>\n",
       "      <td>0.144473</td>\n",
       "      <td>-0.844861</td>\n",
       "      <td>2.294237</td>\n",
       "      <td>-0.665583</td>\n",
       "      <td>1.457993</td>\n",
       "      <td>-0.504847</td>\n",
       "      <td>-0.925224</td>\n",
       "      <td>-0.896515</td>\n",
       "      <td>0.953185</td>\n",
       "      <td>1.423223</td>\n",
       "      <td>-0.511089</td>\n",
       "      <td>-0.293034</td>\n",
       "    </tr>\n",
       "    <tr>\n",
       "      <th>2678</th>\n",
       "      <td>-1.480248</td>\n",
       "      <td>1.183626</td>\n",
       "      <td>-0.435875</td>\n",
       "      <td>-0.665583</td>\n",
       "      <td>0.052222</td>\n",
       "      <td>-0.504847</td>\n",
       "      <td>0.683206</td>\n",
       "      <td>0.588492</td>\n",
       "      <td>0.953185</td>\n",
       "      <td>-0.675786</td>\n",
       "      <td>1.073563</td>\n",
       "      <td>-0.874934</td>\n",
       "    </tr>\n",
       "    <tr>\n",
       "      <th>2679</th>\n",
       "      <td>0.956833</td>\n",
       "      <td>-0.844861</td>\n",
       "      <td>-0.435875</td>\n",
       "      <td>1.502442</td>\n",
       "      <td>0.614531</td>\n",
       "      <td>-0.504847</td>\n",
       "      <td>0.683206</td>\n",
       "      <td>-2.381523</td>\n",
       "      <td>-0.709340</td>\n",
       "      <td>-1.095588</td>\n",
       "      <td>0.281237</td>\n",
       "      <td>-0.874934</td>\n",
       "    </tr>\n",
       "    <tr>\n",
       "      <th>2680</th>\n",
       "      <td>-1.480248</td>\n",
       "      <td>1.183626</td>\n",
       "      <td>-0.435875</td>\n",
       "      <td>-0.665583</td>\n",
       "      <td>0.614531</td>\n",
       "      <td>-0.504847</td>\n",
       "      <td>0.683206</td>\n",
       "      <td>0.588492</td>\n",
       "      <td>0.953185</td>\n",
       "      <td>-0.255984</td>\n",
       "      <td>1.073563</td>\n",
       "      <td>-0.874934</td>\n",
       "    </tr>\n",
       "  </tbody>\n",
       "</table>\n",
       "<p>2681 rows × 12 columns</p>\n",
       "</div>"
      ],
      "text/plain": [
       "      cap-surface   bruises  gill-spacing  gill-size  gill-color  stalk-root  stalk-surface-above-ring  stalk-surface-below-ring  ring-type  spore-print-color  population   habitat\n",
       "0       -1.480248 -0.844861      2.294237  -0.665583   -0.510086    1.984178                  0.683206                 -2.381523  -1.263515          -0.255984   -0.511089 -0.293034\n",
       "1        0.144473 -0.844861     -0.435875   1.502442   -1.353548   -0.504847                  0.683206                  0.588492  -1.263515           1.423223    0.281237  0.288865\n",
       "2        0.956833 -0.844861     -0.435875   1.502442   -1.353548   -0.504847                 -0.925224                  0.588492  -1.263515           1.423223    0.281237  0.288865\n",
       "3        0.956833  1.183626     -0.435875  -0.665583    0.052222   -0.504847                  0.683206                  0.588492   0.953185          -0.255984    1.073563 -0.874934\n",
       "4        0.144473 -0.844861     -0.435875   1.502442   -1.353548   -0.504847                  0.683206                  0.588492  -1.263515           1.423223    0.281237  0.288865\n",
       "...           ...       ...           ...        ...         ...         ...                       ...                       ...        ...                ...         ...       ...\n",
       "2676     0.144473 -0.844861     -0.435875   1.502442   -1.353548   -0.504847                  0.683206                 -0.896515  -1.263515           1.423223    0.281237  0.288865\n",
       "2677     0.144473 -0.844861      2.294237  -0.665583    1.457993   -0.504847                 -0.925224                 -0.896515   0.953185           1.423223   -0.511089 -0.293034\n",
       "2678    -1.480248  1.183626     -0.435875  -0.665583    0.052222   -0.504847                  0.683206                  0.588492   0.953185          -0.675786    1.073563 -0.874934\n",
       "2679     0.956833 -0.844861     -0.435875   1.502442    0.614531   -0.504847                  0.683206                 -2.381523  -0.709340          -1.095588    0.281237 -0.874934\n",
       "2680    -1.480248  1.183626     -0.435875  -0.665583    0.614531   -0.504847                  0.683206                  0.588492   0.953185          -0.255984    1.073563 -0.874934\n",
       "\n",
       "[2681 rows x 12 columns]"
      ]
     },
     "execution_count": 79,
     "metadata": {},
     "output_type": "execute_result"
    }
   ],
   "source": [
    "# let's see how our data looks\n",
    "X_test_scaled"
   ]
  },
  {
   "cell_type": "markdown",
   "id": "a076c8cf",
   "metadata": {},
   "source": [
    "### XGBoost Classifier"
   ]
  },
  {
   "cell_type": "markdown",
   "id": "f0886f76",
   "metadata": {},
   "source": [
    "We will use XGBoost Classifier model for this project"
   ]
  },
  {
   "cell_type": "code",
   "execution_count": 80,
   "id": "2bb0f6f0",
   "metadata": {},
   "outputs": [],
   "source": [
    "# create an instance of XGBoost Classifier\n",
    "xgbc = XGBClassifier()"
   ]
  },
  {
   "cell_type": "code",
   "execution_count": 81,
   "id": "9110840a",
   "metadata": {},
   "outputs": [
    {
     "data": {
      "text/html": [
       "<style>#sk-container-id-2 {color: black;background-color: white;}#sk-container-id-2 pre{padding: 0;}#sk-container-id-2 div.sk-toggleable {background-color: white;}#sk-container-id-2 label.sk-toggleable__label {cursor: pointer;display: block;width: 100%;margin-bottom: 0;padding: 0.3em;box-sizing: border-box;text-align: center;}#sk-container-id-2 label.sk-toggleable__label-arrow:before {content: \"▸\";float: left;margin-right: 0.25em;color: #696969;}#sk-container-id-2 label.sk-toggleable__label-arrow:hover:before {color: black;}#sk-container-id-2 div.sk-estimator:hover label.sk-toggleable__label-arrow:before {color: black;}#sk-container-id-2 div.sk-toggleable__content {max-height: 0;max-width: 0;overflow: hidden;text-align: left;background-color: #f0f8ff;}#sk-container-id-2 div.sk-toggleable__content pre {margin: 0.2em;color: black;border-radius: 0.25em;background-color: #f0f8ff;}#sk-container-id-2 input.sk-toggleable__control:checked~div.sk-toggleable__content {max-height: 200px;max-width: 100%;overflow: auto;}#sk-container-id-2 input.sk-toggleable__control:checked~label.sk-toggleable__label-arrow:before {content: \"▾\";}#sk-container-id-2 div.sk-estimator input.sk-toggleable__control:checked~label.sk-toggleable__label {background-color: #d4ebff;}#sk-container-id-2 div.sk-label input.sk-toggleable__control:checked~label.sk-toggleable__label {background-color: #d4ebff;}#sk-container-id-2 input.sk-hidden--visually {border: 0;clip: rect(1px 1px 1px 1px);clip: rect(1px, 1px, 1px, 1px);height: 1px;margin: -1px;overflow: hidden;padding: 0;position: absolute;width: 1px;}#sk-container-id-2 div.sk-estimator {font-family: monospace;background-color: #f0f8ff;border: 1px dotted black;border-radius: 0.25em;box-sizing: border-box;margin-bottom: 0.5em;}#sk-container-id-2 div.sk-estimator:hover {background-color: #d4ebff;}#sk-container-id-2 div.sk-parallel-item::after {content: \"\";width: 100%;border-bottom: 1px solid gray;flex-grow: 1;}#sk-container-id-2 div.sk-label:hover label.sk-toggleable__label {background-color: #d4ebff;}#sk-container-id-2 div.sk-serial::before {content: \"\";position: absolute;border-left: 1px solid gray;box-sizing: border-box;top: 0;bottom: 0;left: 50%;z-index: 0;}#sk-container-id-2 div.sk-serial {display: flex;flex-direction: column;align-items: center;background-color: white;padding-right: 0.2em;padding-left: 0.2em;position: relative;}#sk-container-id-2 div.sk-item {position: relative;z-index: 1;}#sk-container-id-2 div.sk-parallel {display: flex;align-items: stretch;justify-content: center;background-color: white;position: relative;}#sk-container-id-2 div.sk-item::before, #sk-container-id-2 div.sk-parallel-item::before {content: \"\";position: absolute;border-left: 1px solid gray;box-sizing: border-box;top: 0;bottom: 0;left: 50%;z-index: -1;}#sk-container-id-2 div.sk-parallel-item {display: flex;flex-direction: column;z-index: 1;position: relative;background-color: white;}#sk-container-id-2 div.sk-parallel-item:first-child::after {align-self: flex-end;width: 50%;}#sk-container-id-2 div.sk-parallel-item:last-child::after {align-self: flex-start;width: 50%;}#sk-container-id-2 div.sk-parallel-item:only-child::after {width: 0;}#sk-container-id-2 div.sk-dashed-wrapped {border: 1px dashed gray;margin: 0 0.4em 0.5em 0.4em;box-sizing: border-box;padding-bottom: 0.4em;background-color: white;}#sk-container-id-2 div.sk-label label {font-family: monospace;font-weight: bold;display: inline-block;line-height: 1.2em;}#sk-container-id-2 div.sk-label-container {text-align: center;}#sk-container-id-2 div.sk-container {/* jupyter's `normalize.less` sets `[hidden] { display: none; }` but bootstrap.min.css set `[hidden] { display: none !important; }` so we also need the `!important` here to be able to override the default hidden behavior on the sphinx rendered scikit-learn.org. See: https://github.com/scikit-learn/scikit-learn/issues/21755 */display: inline-block !important;position: relative;}#sk-container-id-2 div.sk-text-repr-fallback {display: none;}</style><div id=\"sk-container-id-2\" class=\"sk-top-container\"><div class=\"sk-text-repr-fallback\"><pre>XGBClassifier(base_score=0.5, booster=&#x27;gbtree&#x27;, callbacks=None,\n",
       "              colsample_bylevel=1, colsample_bynode=1, colsample_bytree=1,\n",
       "              early_stopping_rounds=None, enable_categorical=False,\n",
       "              eval_metric=None, feature_types=None, gamma=0, gpu_id=-1,\n",
       "              grow_policy=&#x27;depthwise&#x27;, importance_type=None,\n",
       "              interaction_constraints=&#x27;&#x27;, learning_rate=0.300000012,\n",
       "              max_bin=256, max_cat_threshold=64, max_cat_to_onehot=4,\n",
       "              max_delta_step=0, max_depth=6, max_leaves=0, min_child_weight=1,\n",
       "              missing=nan, monotone_constraints=&#x27;()&#x27;, n_estimators=100,\n",
       "              n_jobs=0, num_parallel_tree=1, predictor=&#x27;auto&#x27;, random_state=0, ...)</pre><b>In a Jupyter environment, please rerun this cell to show the HTML representation or trust the notebook. <br />On GitHub, the HTML representation is unable to render, please try loading this page with nbviewer.org.</b></div><div class=\"sk-container\" hidden><div class=\"sk-item\"><div class=\"sk-estimator sk-toggleable\"><input class=\"sk-toggleable__control sk-hidden--visually\" id=\"sk-estimator-id-2\" type=\"checkbox\" checked><label for=\"sk-estimator-id-2\" class=\"sk-toggleable__label sk-toggleable__label-arrow\">XGBClassifier</label><div class=\"sk-toggleable__content\"><pre>XGBClassifier(base_score=0.5, booster=&#x27;gbtree&#x27;, callbacks=None,\n",
       "              colsample_bylevel=1, colsample_bynode=1, colsample_bytree=1,\n",
       "              early_stopping_rounds=None, enable_categorical=False,\n",
       "              eval_metric=None, feature_types=None, gamma=0, gpu_id=-1,\n",
       "              grow_policy=&#x27;depthwise&#x27;, importance_type=None,\n",
       "              interaction_constraints=&#x27;&#x27;, learning_rate=0.300000012,\n",
       "              max_bin=256, max_cat_threshold=64, max_cat_to_onehot=4,\n",
       "              max_delta_step=0, max_depth=6, max_leaves=0, min_child_weight=1,\n",
       "              missing=nan, monotone_constraints=&#x27;()&#x27;, n_estimators=100,\n",
       "              n_jobs=0, num_parallel_tree=1, predictor=&#x27;auto&#x27;, random_state=0, ...)</pre></div></div></div></div></div>"
      ],
      "text/plain": [
       "XGBClassifier(base_score=0.5, booster='gbtree', callbacks=None,\n",
       "              colsample_bylevel=1, colsample_bynode=1, colsample_bytree=1,\n",
       "              early_stopping_rounds=None, enable_categorical=False,\n",
       "              eval_metric=None, feature_types=None, gamma=0, gpu_id=-1,\n",
       "              grow_policy='depthwise', importance_type=None,\n",
       "              interaction_constraints='', learning_rate=0.300000012,\n",
       "              max_bin=256, max_cat_threshold=64, max_cat_to_onehot=4,\n",
       "              max_delta_step=0, max_depth=6, max_leaves=0, min_child_weight=1,\n",
       "              missing=nan, monotone_constraints='()', n_estimators=100,\n",
       "              n_jobs=0, num_parallel_tree=1, predictor='auto', random_state=0, ...)"
      ]
     },
     "execution_count": 81,
     "metadata": {},
     "output_type": "execute_result"
    }
   ],
   "source": [
    "# let's train our model using training data\n",
    "xgbc.fit(X_train_scaled, y_train)"
   ]
  },
  {
   "cell_type": "code",
   "execution_count": 82,
   "id": "2daf4e7a",
   "metadata": {},
   "outputs": [
    {
     "data": {
      "text/plain": [
       "1.0"
      ]
     },
     "execution_count": 82,
     "metadata": {},
     "output_type": "execute_result"
    }
   ],
   "source": [
    "# check model score\n",
    "xgbc.score(X_train_scaled, y_train)"
   ]
  },
  {
   "cell_type": "code",
   "execution_count": 83,
   "id": "79966a9a",
   "metadata": {},
   "outputs": [],
   "source": [
    "# Now we will predict on test data\n",
    "xgbc_pred = xgbc.predict(X_test_scaled)"
   ]
  },
  {
   "cell_type": "markdown",
   "id": "15b1fbd8",
   "metadata": {},
   "source": [
    "### Model Performance\n",
    "Now we will check our model performance using Confusion Matrix, Accuracy Score & Classification Report"
   ]
  },
  {
   "cell_type": "code",
   "execution_count": 84,
   "id": "7c703ac2",
   "metadata": {},
   "outputs": [
    {
     "name": "stdout",
     "output_type": "stream",
     "text": [
      "Confusion Matrix : \n",
      " [[1303    0]\n",
      " [   0 1378]]\n",
      "Accuracy Score : \n",
      " 1.0\n",
      "Classification Report : \n",
      "               precision    recall  f1-score   support\n",
      "\n",
      "           0       1.00      1.00      1.00      1303\n",
      "           1       1.00      1.00      1.00      1378\n",
      "\n",
      "    accuracy                           1.00      2681\n",
      "   macro avg       1.00      1.00      1.00      2681\n",
      "weighted avg       1.00      1.00      1.00      2681\n",
      "\n"
     ]
    }
   ],
   "source": [
    "# Confusion Matrix\n",
    "print(\"Confusion Matrix : \\n\",confusion_matrix(y_test,xgbc_pred))\n",
    "\n",
    "# Accuracy Score\n",
    "print(\"Accuracy Score : \\n\",accuracy_score(y_test,xgbc_pred))\n",
    "\n",
    "# Classification Report\n",
    "print(\"Classification Report : \\n\", classification_report(y_test,xgbc_pred))"
   ]
  },
  {
   "cell_type": "markdown",
   "id": "22b5ff87",
   "metadata": {},
   "source": [
    "As you can see from abobe that our model has 100% accuracy on both training data and test data"
   ]
  },
  {
   "cell_type": "markdown",
   "id": "7cc9bca3",
   "metadata": {},
   "source": [
    "Now to create our webpage we need to extract values from feature columns so that we can create a drop down for users to select values of features."
   ]
  },
  {
   "cell_type": "code",
   "execution_count": 85,
   "id": "353a5bf5",
   "metadata": {},
   "outputs": [],
   "source": [
    "X_train_transformed = pd.DataFrame(SS.inverse_transform(X_train_scaled), columns=X_train_scaled.columns)"
   ]
  },
  {
   "cell_type": "code",
   "execution_count": 86,
   "id": "ac8e0fe2",
   "metadata": {},
   "outputs": [
    {
     "data": {
      "text/html": [
       "<div>\n",
       "<style scoped>\n",
       "    .dataframe tbody tr th:only-of-type {\n",
       "        vertical-align: middle;\n",
       "    }\n",
       "\n",
       "    .dataframe tbody tr th {\n",
       "        vertical-align: top;\n",
       "    }\n",
       "\n",
       "    .dataframe thead th {\n",
       "        text-align: right;\n",
       "    }\n",
       "</style>\n",
       "<table border=\"1\" class=\"dataframe\">\n",
       "  <thead>\n",
       "    <tr style=\"text-align: right;\">\n",
       "      <th></th>\n",
       "      <th>cap-surface</th>\n",
       "      <th>bruises</th>\n",
       "      <th>gill-spacing</th>\n",
       "      <th>gill-size</th>\n",
       "      <th>gill-color</th>\n",
       "      <th>stalk-root</th>\n",
       "      <th>stalk-surface-above-ring</th>\n",
       "      <th>stalk-surface-below-ring</th>\n",
       "      <th>ring-type</th>\n",
       "      <th>spore-print-color</th>\n",
       "      <th>population</th>\n",
       "      <th>habitat</th>\n",
       "    </tr>\n",
       "  </thead>\n",
       "  <tbody>\n",
       "    <tr>\n",
       "      <th>0</th>\n",
       "      <td>0.0</td>\n",
       "      <td>1.0</td>\n",
       "      <td>0.0</td>\n",
       "      <td>0.0</td>\n",
       "      <td>5.0</td>\n",
       "      <td>0.0</td>\n",
       "      <td>2.0</td>\n",
       "      <td>2.0</td>\n",
       "      <td>4.0</td>\n",
       "      <td>2.0</td>\n",
       "      <td>5.0</td>\n",
       "      <td>0.0</td>\n",
       "    </tr>\n",
       "    <tr>\n",
       "      <th>1</th>\n",
       "      <td>0.0</td>\n",
       "      <td>0.0</td>\n",
       "      <td>1.0</td>\n",
       "      <td>1.0</td>\n",
       "      <td>7.0</td>\n",
       "      <td>0.0</td>\n",
       "      <td>2.0</td>\n",
       "      <td>2.0</td>\n",
       "      <td>4.0</td>\n",
       "      <td>2.0</td>\n",
       "      <td>4.0</td>\n",
       "      <td>0.0</td>\n",
       "    </tr>\n",
       "    <tr>\n",
       "      <th>2</th>\n",
       "      <td>0.0</td>\n",
       "      <td>1.0</td>\n",
       "      <td>0.0</td>\n",
       "      <td>0.0</td>\n",
       "      <td>5.0</td>\n",
       "      <td>0.0</td>\n",
       "      <td>2.0</td>\n",
       "      <td>2.0</td>\n",
       "      <td>4.0</td>\n",
       "      <td>3.0</td>\n",
       "      <td>5.0</td>\n",
       "      <td>0.0</td>\n",
       "    </tr>\n",
       "    <tr>\n",
       "      <th>3</th>\n",
       "      <td>2.0</td>\n",
       "      <td>0.0</td>\n",
       "      <td>1.0</td>\n",
       "      <td>0.0</td>\n",
       "      <td>5.0</td>\n",
       "      <td>2.0</td>\n",
       "      <td>2.0</td>\n",
       "      <td>2.0</td>\n",
       "      <td>0.0</td>\n",
       "      <td>3.0</td>\n",
       "      <td>3.0</td>\n",
       "      <td>1.0</td>\n",
       "    </tr>\n",
       "    <tr>\n",
       "      <th>4</th>\n",
       "      <td>3.0</td>\n",
       "      <td>0.0</td>\n",
       "      <td>0.0</td>\n",
       "      <td>1.0</td>\n",
       "      <td>0.0</td>\n",
       "      <td>0.0</td>\n",
       "      <td>2.0</td>\n",
       "      <td>1.0</td>\n",
       "      <td>0.0</td>\n",
       "      <td>7.0</td>\n",
       "      <td>4.0</td>\n",
       "      <td>2.0</td>\n",
       "    </tr>\n",
       "    <tr>\n",
       "      <th>...</th>\n",
       "      <td>...</td>\n",
       "      <td>...</td>\n",
       "      <td>...</td>\n",
       "      <td>...</td>\n",
       "      <td>...</td>\n",
       "      <td>...</td>\n",
       "      <td>...</td>\n",
       "      <td>...</td>\n",
       "      <td>...</td>\n",
       "      <td>...</td>\n",
       "      <td>...</td>\n",
       "      <td>...</td>\n",
       "    </tr>\n",
       "    <tr>\n",
       "      <th>5438</th>\n",
       "      <td>3.0</td>\n",
       "      <td>0.0</td>\n",
       "      <td>0.0</td>\n",
       "      <td>1.0</td>\n",
       "      <td>0.0</td>\n",
       "      <td>0.0</td>\n",
       "      <td>1.0</td>\n",
       "      <td>2.0</td>\n",
       "      <td>0.0</td>\n",
       "      <td>7.0</td>\n",
       "      <td>4.0</td>\n",
       "      <td>4.0</td>\n",
       "    </tr>\n",
       "    <tr>\n",
       "      <th>5439</th>\n",
       "      <td>3.0</td>\n",
       "      <td>1.0</td>\n",
       "      <td>0.0</td>\n",
       "      <td>0.0</td>\n",
       "      <td>10.0</td>\n",
       "      <td>0.0</td>\n",
       "      <td>2.0</td>\n",
       "      <td>2.0</td>\n",
       "      <td>0.0</td>\n",
       "      <td>7.0</td>\n",
       "      <td>1.0</td>\n",
       "      <td>6.0</td>\n",
       "    </tr>\n",
       "    <tr>\n",
       "      <th>5440</th>\n",
       "      <td>3.0</td>\n",
       "      <td>1.0</td>\n",
       "      <td>0.0</td>\n",
       "      <td>0.0</td>\n",
       "      <td>10.0</td>\n",
       "      <td>3.0</td>\n",
       "      <td>2.0</td>\n",
       "      <td>3.0</td>\n",
       "      <td>4.0</td>\n",
       "      <td>3.0</td>\n",
       "      <td>5.0</td>\n",
       "      <td>4.0</td>\n",
       "    </tr>\n",
       "    <tr>\n",
       "      <th>5441</th>\n",
       "      <td>2.0</td>\n",
       "      <td>0.0</td>\n",
       "      <td>0.0</td>\n",
       "      <td>1.0</td>\n",
       "      <td>0.0</td>\n",
       "      <td>0.0</td>\n",
       "      <td>2.0</td>\n",
       "      <td>2.0</td>\n",
       "      <td>0.0</td>\n",
       "      <td>7.0</td>\n",
       "      <td>4.0</td>\n",
       "      <td>4.0</td>\n",
       "    </tr>\n",
       "    <tr>\n",
       "      <th>5442</th>\n",
       "      <td>0.0</td>\n",
       "      <td>0.0</td>\n",
       "      <td>1.0</td>\n",
       "      <td>0.0</td>\n",
       "      <td>2.0</td>\n",
       "      <td>0.0</td>\n",
       "      <td>2.0</td>\n",
       "      <td>1.0</td>\n",
       "      <td>4.0</td>\n",
       "      <td>7.0</td>\n",
       "      <td>2.0</td>\n",
       "      <td>1.0</td>\n",
       "    </tr>\n",
       "  </tbody>\n",
       "</table>\n",
       "<p>5443 rows × 12 columns</p>\n",
       "</div>"
      ],
      "text/plain": [
       "      cap-surface  bruises  gill-spacing  gill-size  gill-color  stalk-root  stalk-surface-above-ring  stalk-surface-below-ring  ring-type  spore-print-color  population  habitat\n",
       "0             0.0      1.0           0.0        0.0         5.0         0.0                       2.0                       2.0        4.0                2.0         5.0      0.0\n",
       "1             0.0      0.0           1.0        1.0         7.0         0.0                       2.0                       2.0        4.0                2.0         4.0      0.0\n",
       "2             0.0      1.0           0.0        0.0         5.0         0.0                       2.0                       2.0        4.0                3.0         5.0      0.0\n",
       "3             2.0      0.0           1.0        0.0         5.0         2.0                       2.0                       2.0        0.0                3.0         3.0      1.0\n",
       "4             3.0      0.0           0.0        1.0         0.0         0.0                       2.0                       1.0        0.0                7.0         4.0      2.0\n",
       "...           ...      ...           ...        ...         ...         ...                       ...                       ...        ...                ...         ...      ...\n",
       "5438          3.0      0.0           0.0        1.0         0.0         0.0                       1.0                       2.0        0.0                7.0         4.0      4.0\n",
       "5439          3.0      1.0           0.0        0.0        10.0         0.0                       2.0                       2.0        0.0                7.0         1.0      6.0\n",
       "5440          3.0      1.0           0.0        0.0        10.0         3.0                       2.0                       3.0        4.0                3.0         5.0      4.0\n",
       "5441          2.0      0.0           0.0        1.0         0.0         0.0                       2.0                       2.0        0.0                7.0         4.0      4.0\n",
       "5442          0.0      0.0           1.0        0.0         2.0         0.0                       2.0                       1.0        4.0                7.0         2.0      1.0\n",
       "\n",
       "[5443 rows x 12 columns]"
      ]
     },
     "execution_count": 86,
     "metadata": {},
     "output_type": "execute_result"
    }
   ],
   "source": [
    "X_train_transformed"
   ]
  },
  {
   "cell_type": "code",
   "execution_count": 87,
   "id": "7c98e9e0",
   "metadata": {},
   "outputs": [
    {
     "data": {
      "text/plain": [
       "0.0    2116\n",
       "1.0    1426\n",
       "4.0     755\n",
       "2.0     581\n",
       "5.0     232\n",
       "3.0     194\n",
       "6.0     139\n",
       "Name: habitat, dtype: int64"
      ]
     },
     "execution_count": 87,
     "metadata": {},
     "output_type": "execute_result"
    }
   ],
   "source": [
    "X_train_transformed['habitat'].value_counts()"
   ]
  },
  {
   "cell_type": "code",
   "execution_count": 88,
   "id": "d7ad59af",
   "metadata": {},
   "outputs": [],
   "source": [
    "habitat = X_train_transformed['habitat'].astype(int)"
   ]
  },
  {
   "cell_type": "code",
   "execution_count": 89,
   "id": "fdf17b84",
   "metadata": {},
   "outputs": [],
   "source": [
    "X_train_original = pd.DataFrame(le.inverse_transform(habitat))"
   ]
  },
  {
   "cell_type": "code",
   "execution_count": 90,
   "id": "fd08167a",
   "metadata": {},
   "outputs": [
    {
     "data": {
      "text/plain": [
       "d    2116\n",
       "g    1426\n",
       "p     755\n",
       "l     581\n",
       "u     232\n",
       "m     194\n",
       "w     139\n",
       "dtype: int64"
      ]
     },
     "execution_count": 90,
     "metadata": {},
     "output_type": "execute_result"
    }
   ],
   "source": [
    "X_train_original.value_counts()"
   ]
  },
  {
   "cell_type": "code",
   "execution_count": 91,
   "id": "b06ae476",
   "metadata": {},
   "outputs": [],
   "source": [
    "x_inv = pd.DataFrame(X_train_scaled, columns=X_train_scaled.columns)"
   ]
  },
  {
   "cell_type": "code",
   "execution_count": 92,
   "id": "56f190e4",
   "metadata": {},
   "outputs": [
    {
     "data": {
      "text/plain": [
       "-0.874934    2116\n",
       "-0.293034    1426\n",
       " 1.452664     755\n",
       " 0.288865     581\n",
       " 2.034564     232\n",
       " 0.870765     194\n",
       " 2.616463     139\n",
       "Name: habitat, dtype: int64"
      ]
     },
     "execution_count": 92,
     "metadata": {},
     "output_type": "execute_result"
    }
   ],
   "source": [
    "x_inv['habitat'].value_counts()"
   ]
  },
  {
   "cell_type": "markdown",
   "id": "97a3a17c",
   "metadata": {},
   "source": [
    "Now using above data we can input values in our drop down for 'habitat' column and for other features as well."
   ]
  },
  {
   "cell_type": "code",
   "execution_count": 93,
   "id": "2bbb4ed0",
   "metadata": {},
   "outputs": [],
   "source": [
    "# Let's save our model for flask app\n",
    "import pickle\n",
    "pickle.dump(xgbc, open(\"XGBoost.pkl\", \"wb\"))"
   ]
  },
  {
   "cell_type": "markdown",
   "id": "0ca0e52d",
   "metadata": {},
   "source": [
    "#### Summary:\n",
    "\n",
    " - The target column has 2 class type one is 'poisonous' which has 3916 counts and second is 'edible' which has 4208 counts so we have nearly equal counts for poisonous and edible classes in our data. Hence we can say that our data is balanced.\n",
    " - There are 4 types of cap-surface in a mushroom and also it suggests that 'edible' mushrooms do not have 'cap-surface' : 'g : grooves' according to our data.\n",
    " - The mushroom may or may not have bruises but still it could be poisonous or edible according to our data.\n",
    " - The mushroom can have Gill Spacing as Close or Crowded but still it could be poisonous or edible according to our data.\n",
    " - The mushroom can have Gill Size as Narrow or Broad but still it could be poisonous or edible according to our data.\n",
    " - The 'edible' mushroom do not have Gill Color : Buff, Green and 'poisonous' mushroom do not have Gill Color : Red, Orange according to our data.\n",
    " - The 'poisonous' mushroom do not have Stalk Root as Rooted type according to our data.\n",
    " - The mushroom can have Stalk-Surface-Above-Ring as Smooth, Fibrous, Silky or Scaly but still it could be poisonous or edible according to our data.\n",
    " - The mushroom can have Stalk-Surface-Below-Ring as Smooth, Fibrous, Silky or Scaly but still it could be poisonous or edible according to our data.\n",
    " - The 'edible' mushroom do not have Ring-Type as Large and None and 'poisonous' mushroom do not have Ring-Type as Flaring according to our data.\n",
    " - The 'edible' mushrooms do not have Spore-Print-Color as Green and 'poisonous' mushrooms do not have Spore-Print-Color as Purple, Orange, Yellow, Buff according to our data.\n",
    " - The 'poisonous' mushrooms do not have Population Type as Numerous and Abundant according to our data.\n",
    " - The 'poisonous' mushrooms do not have Habitat Type as Waste according to our data.\n",
    " - The XGBoost Classifier model has 100% accuracy on both training data and test data."
   ]
  }
 ],
 "metadata": {
  "kernelspec": {
   "display_name": "Python 3 (ipykernel)",
   "language": "python",
   "name": "python3"
  },
  "language_info": {
   "codemirror_mode": {
    "name": "ipython",
    "version": 3
   },
   "file_extension": ".py",
   "mimetype": "text/x-python",
   "name": "python",
   "nbconvert_exporter": "python",
   "pygments_lexer": "ipython3",
   "version": "3.9.13"
  }
 },
 "nbformat": 4,
 "nbformat_minor": 5
}
